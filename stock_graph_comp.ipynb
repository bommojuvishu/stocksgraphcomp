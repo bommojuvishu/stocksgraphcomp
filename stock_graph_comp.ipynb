{
  "nbformat": 4,
  "nbformat_minor": 0,
  "metadata": {
    "colab": {
      "name": "stock_graph_comp.ipynb",
      "provenance": [],
      "authorship_tag": "ABX9TyOgo5CsppIBb2OSi0SAJmMH",
      "include_colab_link": true
    },
    "kernelspec": {
      "name": "python3",
      "display_name": "Python 3"
    },
    "language_info": {
      "name": "python"
    }
  },
  "cells": [
    {
      "cell_type": "markdown",
      "metadata": {
        "id": "view-in-github",
        "colab_type": "text"
      },
      "source": [
        "<a href=\"https://colab.research.google.com/github/bommojuvishu/stocksgraphcomp/blob/main/stock_graph_comp.ipynb\" target=\"_parent\"><img src=\"https://colab.research.google.com/assets/colab-badge.svg\" alt=\"Open In Colab\"/></a>"
      ]
    },
    {
      "cell_type": "markdown",
      "source": [
        "**Comparing the stocks that are max linear graphs**"
      ],
      "metadata": {
        "id": "MrU7e9XLo9E6"
      }
    },
    {
      "cell_type": "code",
      "execution_count": null,
      "metadata": {
        "colab": {
          "base_uri": "https://localhost:8080/"
        },
        "id": "G_PUjcdjQEbX",
        "outputId": "33f2260b-7555-4a88-d60a-b4ec06232698"
      },
      "outputs": [
        {
          "output_type": "stream",
          "name": "stdout",
          "text": [
            "Looking in indexes: https://pypi.org/simple, https://us-python.pkg.dev/colab-wheels/public/simple/\n",
            "Collecting yfinance\n",
            "  Downloading yfinance-0.1.74-py2.py3-none-any.whl (27 kB)\n",
            "Requirement already satisfied: multitasking>=0.0.7 in /usr/local/lib/python3.7/dist-packages (from yfinance) (0.0.11)\n",
            "Collecting requests>=2.26\n",
            "  Downloading requests-2.28.1-py3-none-any.whl (62 kB)\n",
            "\u001b[K     |████████████████████████████████| 62 kB 1.6 MB/s \n",
            "\u001b[?25hRequirement already satisfied: lxml>=4.5.1 in /usr/local/lib/python3.7/dist-packages (from yfinance) (4.9.1)\n",
            "Requirement already satisfied: pandas>=0.24.0 in /usr/local/lib/python3.7/dist-packages (from yfinance) (1.3.5)\n",
            "Requirement already satisfied: numpy>=1.15 in /usr/local/lib/python3.7/dist-packages (from yfinance) (1.21.6)\n",
            "Requirement already satisfied: pytz>=2017.3 in /usr/local/lib/python3.7/dist-packages (from pandas>=0.24.0->yfinance) (2022.2.1)\n",
            "Requirement already satisfied: python-dateutil>=2.7.3 in /usr/local/lib/python3.7/dist-packages (from pandas>=0.24.0->yfinance) (2.8.2)\n",
            "Requirement already satisfied: six>=1.5 in /usr/local/lib/python3.7/dist-packages (from python-dateutil>=2.7.3->pandas>=0.24.0->yfinance) (1.15.0)\n",
            "Requirement already satisfied: certifi>=2017.4.17 in /usr/local/lib/python3.7/dist-packages (from requests>=2.26->yfinance) (2022.6.15)\n",
            "Requirement already satisfied: urllib3<1.27,>=1.21.1 in /usr/local/lib/python3.7/dist-packages (from requests>=2.26->yfinance) (1.24.3)\n",
            "Requirement already satisfied: charset-normalizer<3,>=2 in /usr/local/lib/python3.7/dist-packages (from requests>=2.26->yfinance) (2.1.1)\n",
            "Requirement already satisfied: idna<4,>=2.5 in /usr/local/lib/python3.7/dist-packages (from requests>=2.26->yfinance) (2.10)\n",
            "Installing collected packages: requests, yfinance\n",
            "  Attempting uninstall: requests\n",
            "    Found existing installation: requests 2.23.0\n",
            "    Uninstalling requests-2.23.0:\n",
            "      Successfully uninstalled requests-2.23.0\n",
            "Successfully installed requests-2.28.1 yfinance-0.1.74\n"
          ]
        }
      ],
      "source": [
        "!pip install yfinance"
      ]
    },
    {
      "cell_type": "code",
      "source": [
        "import yfinance as yf\n",
        "import numpy as np\n",
        "import datetime as dt\n",
        "import pandas as pd\n",
        "import datetime\n",
        "import os\n",
        "import traceback\n",
        "import matplotlib.pyplot as plt\n",
        "import json\n",
        "import logging \n",
        "\n"
      ],
      "metadata": {
        "id": "ZNQMJKAWQZSj"
      },
      "execution_count": null,
      "outputs": []
    },
    {
      "cell_type": "code",
      "source": [
        "def min_max(data):\n",
        "  max_x = max(data)\n",
        "  min_x = min(data)\n",
        "  result = []\n",
        "  for x in data:\n",
        "    x = x - min_x\n",
        "    result.append(x/ (max_x - min_x))\n",
        "    \n",
        "  return result\n",
        "\n",
        "def plotgraph(df , name):\n",
        "  \n",
        "  plt.figure(figsize=(9,4))\n",
        "  plt.plot(df.index, df['minmax'])\n",
        "  # best fit in orange\n",
        "  plt.plot(df.index, df['expected'])\n",
        "  plt.title(name)\n",
        "  plt.show\n",
        "\n",
        "\n",
        "def createList(df):\n",
        "  # interval = 1/(len(df))\n",
        "  # result =np.arange(0, 1, interval)\n",
        "\n",
        "  # if len(result) != len(df):\n",
        "  #   lastElementIndex = len(result)-1\n",
        "  #   result = result[:lastElementIndex]\n",
        "\n",
        "  # return result\n",
        "  return np.linspace(0,1,len(df))\n",
        "\n",
        "def computeCloud (data):\n",
        "    if data.Close > data.MovingAVG:\n",
        "        return 1\n",
        "    \n",
        "    return 0\n",
        "\n",
        "def returnpercent(arr , nodays ):\n",
        "  result ={}\n",
        "  # TODAY = dt.datetime.today().strftime('%Y-%m-%d')\n",
        "  datetime_object = dt.datetime.strptime(TODAY_rtrpercent, '%Y-%m-%d')\n",
        "  for name in arr:\n",
        "    ohlcv = yf.download(name +'.NS',datetime_object -dt.timedelta(nodays),datetime_object)\n",
        "    openprice = ohlcv.iloc[0]['Open']\n",
        "    closeprice = ohlcv.iloc[len(ohlcv) -1 ]['Close']\n",
        "    x = closeprice -openprice\n",
        "    perrtr = (x/openprice) *100\n",
        "    result[name] = perrtr\n",
        "  print(\"Array :\",result)\n",
        "\n",
        "  return sum(result.values()) ,ohlcv\n",
        "\n",
        "def graphfit(ohclv):  \n",
        "  x_data =x_values = np.linspace(0,1,len(ohlcv))\n",
        "\n",
        "  y_data =ohlcv['Close'].to_numpy()\n",
        "\n",
        "  ylog_data = np.log(y_data)\n",
        "\n",
        "  curve_fit = np.polyfit(x_data, ylog_data, 1)\n",
        "  a , b  =curve_fit\n",
        "\n",
        "  y = np.exp(b) * np.exp(a*x_data)\n",
        "  scaled_y =  min_max(y)\n",
        "  return scaled_y\n",
        "  # plt.plot(x_data, y_data)\n",
        "\n",
        "  # # best fit in orange\n",
        "  # plt.plot(x_data, y)\n",
        "\n",
        "def returnpercent_v2(arr , movingavg , nodays ):\n",
        "  result ={}\n",
        "  print(arr)\n",
        "  # TODAY = dt.datetime.today().strftime('%Y-%m-%d')\n",
        "  datetime_object = dt.datetime.strptime(TODAY_rtrpercent, '%Y-%m-%d')\n",
        "\n",
        "  slicedate = datetime_object -dt.timedelta(nodays)\n",
        "\n",
        "  for name in arr:\n",
        "    gotclose =False\n",
        "    ohlcv = yf.download(name +'.NS',datetime_object -dt.timedelta(365),datetime_object)\n",
        "    ohlcv['movingavg'] = ohlcv['Close'].rolling(window= movingavg).mean()\n",
        "    ohlcv = ohlcv.loc[slicedate :]\n",
        "    print(name)\n",
        "    openprice = ohlcv.iloc[0]['Open']\n",
        "    # if open price < less than moving avg then score 0\n",
        "    if openprice < ohlcv.iloc[0]['movingavg']:\n",
        "      print(\"less than moving avg\")\n",
        "      result[name] = 0\n",
        "      continue\n",
        "\n",
        "    # Get close price\n",
        "    for index, row in ohlcv.iterrows():\n",
        "      if row['Close'] < row['movingavg']:\n",
        "        closeprice= row['Close']\n",
        "        gotclose =True\n",
        "        break\n",
        "    if gotclose:\n",
        "      print(\"\")\n",
        "    else:\n",
        "      closeprice = ohlcv.iloc[len(ohlcv) -1 ]['Close']\n",
        "    # print(openprice, closeprice)\n",
        "    #Final cal\n",
        "    x = closeprice -openprice\n",
        "    perrtr = (x/openprice) *100\n",
        "    result[name] = perrtr\n",
        "  print(\"Array:\",result)\n",
        "  return sum(result.values()) ,ohlcv"
      ],
      "metadata": {
        "id": "pJ5RyZp8sIEC"
      },
      "execution_count": null,
      "outputs": []
    },
    {
      "cell_type": "code",
      "source": [
        "#nifty 50\n",
        "liststocks =[\"HINDALCO\",\"JSWSTEEL\",\"CIPLA\",\"INFY\",\"TATASTEEL\",\"NESTLEIND\",\"APOLLOHOSP\",\"DRREDDY\",\"DIVISLAB\",\"WIPRO\",\"ULTRACEMCO\",\"SUNPHARMA\",\"ASIANPAINT\",\"HCLTECH\",\"TECHM\",\"ADANIPORTS\",\"LT\",\"UPL\",\"ITC\",\"BAJFINANCE\",\"TCS\",\"HDFCBANK\",\"ONGC\",\"TATAMOTORS\",\"GRASIM\",\"HEROMOTOCO\",\"EICHERMOT\",\"BAJAJFINSV\",\"BPCL\",\"HINDUNILVR\",\"INDUSINDBK\",\"HDFCLIFE\",\"AXISBANK\",\"M&M\",\"HDFC\",\"ICICIBANK\",\"BAJAJ-AUTO\",\"BRITANNIA\",\"SHREECEM\",\"TITAN\",\"POWERGRID\",\"SBILIFE\",\"KOTAKBANK\",\"BHARTIARTL\",\"MARUTI\",\"RELIANCE\",\"SBIN\",\"COALINDIA\",\"NTPC\",\"TATACONSUM\"]"
      ],
      "metadata": {
        "id": "EFMUy_35XXpz"
      },
      "execution_count": null,
      "outputs": []
    },
    {
      "cell_type": "code",
      "source": [
        "#nifty 500\n",
        "liststocks = [\"3MINDIA\",\"ABB\",\"ACC\",\"AIAENG\",\"APLAPOLLO\",\"AUBANK\",\"AARTIDRUGS\",\"AARTIIND\",\"AAVAS\",\"ABBOTINDIA\",\"ADANIENT\",\"ADANIGREEN\",\"ADANIPORTS\",\"ATGL\",\"ADANITRANS\",\"ABCAPITAL\",\"ABFRL\",\"ADVENZYMES\",\"AEGISCHEM\",\"AFFLE\",\"AJANTPHARM\",\"ALEMBICLTD\",\"APLLTD\",\"ALKEM\",\"ALKYLAMINE\",\"ALOKINDS\",\"AMARAJABAT\",\"AMBER\",\"AMBUJACEM\",\"ANGELONE\",\"ANURAS\",\"APOLLOHOSP\",\"APOLLOTYRE\",\"ASAHIINDIA\",\"ASHOKLEY\",\"ASHOKA\",\"ASIANPAINT\",\"ASTERDM\",\"ASTRAZEN\",\"ASTRAL\",\"ATUL\",\"AUROPHARMA\",\"AVANTIFEED\",\"DMART\",\"AXISBANK\",\"BASF\",\"BEML\",\"BSE\",\"BAJAJ-AUTO\",\"BAJAJCON\",\"BAJAJELEC\",\"BAJFINANCE\",\"BAJAJFINSV\",\"BAJAJHLDNG\",\"BALAMINES\",\"BALKRISIND\",\"BALRAMCHIN\",\"BANDHANBNK\",\"BANKBARODA\",\"BANKINDIA\",\"MAHABANK\",\"BATAINDIA\",\"BAYERCROP\",\"BERGEPAINT\",\"BDL\",\"BEL\",\"BHARATFORG\",\"BHEL\",\"BPCL\",\"BHARATRAS\",\"BHARTIARTL\",\"BIOCON\",\"BIRLACORPN\",\"BSOFT\",\"BLUEDART\",\"BLUESTARCO\",\"BBTC\",\"BOSCHLTD\",\"BRIGADE\",\"BRITANNIA\",\"CCL\",\"CESC\",\"CGPOWER\",\"CRISIL\",\"CSBBANK\",\"CADILAHC\",\"CANFINHOME\",\"CANBK\",\"CAPLIPOINT\",\"CGCL\",\"CARBORUNIV\",\"CASTROLIND\",\"CEATLTD\",\"CENTRALBK\",\"CDSL\",\"CENTURYPLY\",\"CENTURYTEX\",\"CERA\",\"CHALET\",\"CHAMBLFERT\",\"CHOLAHLDNG\",\"CHOLAFIN\",\"CIPLA\",\"CUB\",\"COALINDIA\",\"COCHINSHIP\",\"COFORGE\",\"COLPAL\",\"CAMS\",\"CONCOR\",\"COROMANDEL\",\"CREDITACC\",\"CROMPTON\",\"CUMMINSIND\",\"CYIENT\",\"DCBBANK\",\"DCMSHRIRAM\",\"DLF\",\"DABUR\",\"DALBHARAT\",\"DEEPAKNTR\",\"DELTACORP\",\"DHANI\",\"DHANUKA\",\"DBL\",\"DIVISLAB\",\"DIXON\",\"LALPATHLAB\",\"DRREDDY\",\"EIDPARRY\",\"EIHOTEL\",\"EPL\",\"EDELWEISS\",\"EICHERMOT\",\"ELGIEQUIP\",\"EMAMILTD\",\"ENDURANCE\",\"ENGINERSIN\",\"EQUITAS\",\"EQUITASBNK\",\"ERIS\",\"ESCORTS\",\"EXIDEIND\",\"FDC\",\"FEDERALBNK\",\"FACT\",\"FINEORG\",\"FINCABLES\",\"FINPIPE\",\"FSL\",\"FORTIS\",\"FRETAIL\",\"GAIL\",\"GMMPFAUDLR\",\"GALAXYSURF\",\"GARFIBRES\",\"GICRE\",\"GILLETTE\",\"GLAND\",\"GLAXO\",\"GLENMARK\",\"GODFRYPHLP\",\"GODREJAGRO\",\"GODREJCP\",\"GODREJIND\",\"GODREJPROP\",\"GRANULES\",\"GRAPHITE\",\"GRASIM\",\"GESHIP\",\"GREAVESCOT\",\"GRINDWELL\",\"GUJALKALI\",\"GAEL\",\"FLUOROCHEM\",\"GUJGASLTD\",\"GNFC\",\"GPPL\",\"GSFC\",\"GSPL\",\"HEG\",\"HCLTECH\",\"HDFCAMC\",\"HDFCBANK\",\"HDFCLIFE\",\"HFCL\",\"HAPPSTMNDS\",\"HATHWAY\",\"HATSUN\",\"HAVELLS\",\"HEIDELBERG\",\"HEMIPROP\",\"HEROMOTOCO\",\"HIKAL\",\"HINDALCO\",\"HGS\",\"HAL\",\"HINDCOPPER\",\"HINDPETRO\",\"HINDUNILVR\",\"HINDZINC\",\"POWERINDIA\",\"HOMEFIRST\",\"HONAUT\",\"HUDCO\",\"HDFC\",\"ICICIBANK\",\"ICICIGI\",\"ICICIPRULI\",\"ISEC\",\"IDBI\",\"IDFCFIRSTB\",\"IDFC\",\"IFBIND\",\"IIFL\",\"IIFLWAM\",\"IOLCP\",\"IRB\",\"IRCON\",\"ITC\",\"ITI\",\"INDIACEM\",\"IBULHSGFIN\",\"IBREALEST\",\"INDIAMART\",\"INDIANB\",\"IEX\",\"INDHOTEL\",\"IOC\",\"IOB\",\"IRCTC\",\"IRFC\",\"INDIGOPNTS\",\"ICIL\",\"INDOCO\",\"IGL\",\"INDUSTOWER\",\"INDUSINDBK\",\"INFIBEAM\",\"NAUKRI\",\"INFY\",\"INGERRAND\",\"INOXLEISUR\",\"INTELLECT\",\"INDIGO\",\"IPCALAB\",\"JBCHEPHARM\",\"JKCEMENT\",\"JKLAKSHMI\",\"JKPAPER\",\"JKTYRE\",\"JMFINANCIL\",\"JSWENERGY\",\"JSWSTEEL\",\"JAMNAAUTO\",\"JINDALSAW\",\"JSLHISAR\",\"JSL\",\"JINDALSTEL\",\"JCHAC\",\"JUBLFOOD\",\"JUBLINGREA\",\"JUBLPHARMA\",\"JUSTDIAL\",\"JYOTHYLAB\",\"KPRMILL\",\"KEI\",\"KNRCON\",\"KPITTECH\",\"KRBL\",\"KSB\",\"KAJARIACER\",\"KALPATPOWR\",\"KALYANKJIL\",\"KANSAINER\",\"KARURVYSYA\",\"KSCL\",\"KEC\",\"KOTAKBANK\",\"L&TFH\",\"LTTS\",\"LICHSGFIN\",\"LAOPALA\",\"LAXMIMACH\",\"LTI\",\"LT\",\"LAURUSLABS\",\"LXCHEM\",\"LEMONTREE\",\"LINDEINDIA\",\"LUPIN\",\"LUXIND\",\"MMTC\",\"MOIL\",\"MRF\",\"LODHA\",\"MGL\",\"M&MFIN\",\"M&M\",\"MAHINDCIE\",\"MHRIL\",\"MAHLOG\",\"MANAPPURAM\",\"MRPL\",\"MARICO\",\"MARUTI\",\"MASTEK\",\"MFSL\",\"MAXHEALTH\",\"MAZDOCK\",\"METROPOLIS\",\"MINDTREE\",\"MINDACORP\",\"MINDAIND\",\"MIDHANI\",\"MOTILALOFS\",\"MPHASIS\",\"MCX\",\"MUTHOOTFIN\",\"NATCOPHARM\",\"NBCC\",\"NCC\",\"NESCO\",\"NHPC\",\"NLCINDIA\",\"NMDC\",\"NOCIL\",\"NTPC\",\"NH\",\"NATIONALUM\",\"NFL\",\"NAVINFLUOR\",\"NAZARA\",\"NESTLEIND\",\"NETWORK18\",\"NILKAMAL\",\"NAM-INDIA\",\"OBEROIRLTY\",\"ONGC\",\"OIL\",\"OFSS\",\"ORIENTELEC\",\"PCBL\",\"PIIND\",\"PNBHOUSING\",\"PNCINFRA\",\"PVR\",\"PAGEIND\",\"PERSISTENT\",\"PETRONET\",\"PFIZER\",\"PHOENIXLTD\",\"PIDILITIND\",\"PEL\",\"POLYMED\",\"POLYCAB\",\"POLYPLEX\",\"POONAWALLA\",\"PFC\",\"POWERGRID\",\"PRAJIND\",\"PRESTIGE\",\"PRINCEPIPE\",\"PRSMJOHNSN\",\"PGHL\",\"PGHH\",\"PNB\",\"QUESS\",\"RBLBANK\",\"RECLTD\",\"RHIM\",\"RITES\",\"RADICO\",\"RVNL\",\"RAILTEL\",\"RAIN\",\"RAJESHEXPO\",\"RALLIS\",\"RCF\",\"RATNAMANI\",\"REDINGTON\",\"RELAXO\",\"RELIANCE\",\"RBA\",\"ROSSARI\",\"ROUTE\",\"SBICARD\",\"SBILIFE\",\"SIS\",\"SJVN\",\"SKFINDIA\",\"SRF\",\"SANOFI\",\"SCHAEFFLER\",\"SCHNEIDER\",\"SEQUENT\",\"SHARDACROP\",\"SFL\",\"SHILPAMED\",\"SCI\",\"SHREECEM\",\"SHRIRAMCIT\",\"SRTRANSFIN\",\"SIEMENS\",\"SOBHA\",\"SOLARINDS\",\"SOLARA\",\"SONACOMS\",\"SONATSOFTW\",\"SPANDANA\",\"SPICEJET\",\"STARCEMENT\",\"SBIN\",\"SAIL\",\"SWSOLAR\",\"STLTECH\",\"STAR\",\"SUDARSCHEM\",\"SUMICHEM\",\"SPARC\",\"SUNPHARMA\",\"SUNTV\",\"SUNDARMFIN\",\"SUNDRMFAST\",\"SUNTECK\",\"SUPRAJIT\",\"SUPREMEIND\",\"SUPPETRO\",\"SUVENPHAR\",\"SUZLON\",\"SYMPHONY\",\"SYNGENE\",\"TCIEXP\",\"TCNSBRANDS\",\"TTKPRESTIG\",\"TV18BRDCST\",\"TVSMOTOR\",\"TANLA\",\"TASTYBITE\",\"TATACHEM\",\"TATACOFFEE\",\"TATACOMM\",\"TCS\",\"TATACONSUM\",\"TATAELXSI\",\"TATAMTRDVR\",\"TATAMOTORS\",\"TATAPOWER\",\"TATASTLLP\",\"TATASTEEL\",\"TTML\",\"TEAMLEASE\",\"TECHM\",\"NIACL\",\"RAMCOCEM\",\"THERMAX\",\"THYROCARE\",\"TIMKEN\",\"TITAN\",\"TORNTPHARM\",\"TORNTPOWER\",\"TRENT\",\"TRIDENT\",\"TRITURBINE\",\"TIINDIA\",\"UCOBANK\",\"UFLEX\",\"UPL\",\"UTIAMC\",\"UJJIVAN\",\"UJJIVANSFB\",\"ULTRACEMCO\",\"UNIONBANK\",\"UBL\",\"MCDOWELL-N\",\"VGUARD\",\"VMART\",\"VIPIND\",\"VAIBHAVGBL\",\"VAKRANGEE\",\"VALIANTORG\",\"VTL\",\"VARROC\",\"VBL\",\"VEDL\",\"VENKEYS\",\"VINATIORGA\",\"IDEA\",\"VOLTAS\",\"WABCOINDIA\",\"WELCORP\",\"WELSPUNIND\",\"WESTLIFE\",\"WHIRLPOOL\",\"WIPRO\",\"WOCKPHARMA\",\"YESBANK\",\"ZEEL\",\"ZENSARTECH\",\"ZYDUSWELL\",\"ECLERX\"]"
      ],
      "metadata": {
        "id": "Zl8JACz6WbEW"
      },
      "execution_count": null,
      "outputs": []
    },
    {
      "cell_type": "code",
      "source": [
        "# liststocks = ['PERSISTENT','INFY','M&M','VBL']\n",
        "tickers={}\n",
        "\n",
        "daterange = 30\n",
        "TODAY_rtrpercent = \"2022-03-01\"\n",
        "periodinput = 90\n",
        "TODAY = \"2022-01-01\"\n",
        "# TODAY = dt.datetime.today().strftime('%Y-%m-%d')\n",
        "datetime_object = dt.datetime.strptime(TODAY, '%Y-%m-%d')\n",
        "\n",
        "count=0\n",
        "for name in liststocks: \n",
        "    try:\n",
        "        finalresult = []\n",
        "        count = count +1\n",
        "        i=0\n",
        "        flag =False\n",
        "        print(count,name)\n",
        "        ohlcv = yf.download(name +'.NS',datetime_object -dt.timedelta(periodinput),datetime_object)\n",
        "    \n",
        "        ohlcv['minmax']=min_max(ohlcv['Close'].values)\n",
        "        print(\"LENGTH:\",len(ohlcv))\n",
        "        ohlcv['expected'] = graphfit(ohlcv)\n",
        "        # ohlcv['result'] = ohlcv.apply(lambda x: (x['expected'] - x['minmax']) if x['expected'] > x['minmax']  else 0 , axis=1)\n",
        "        ohlcv['result'] = ohlcv.apply(lambda x: (x['expected'] - x['minmax']) , axis=1)\n",
        "        ohlcv['result'] = ohlcv['result'].abs()\n",
        "\n",
        "        if ohlcv['expected'].values[0] == 1:\n",
        "          flag=True\n",
        "\n",
        "        finalresult.append(sum(ohlcv['result']))\n",
        "   \n",
        "        if flag:\n",
        "          tickers[name] = [100000]\n",
        "        else:\n",
        "          tickers[name] = finalresult\n",
        "    \n",
        "    except Exception as ex:\n",
        "        print(ex)#raised if `y` is empty.\n",
        "        print(\"ERROR: \", name)\n",
        "        liststocks.remove(name)\n",
        "        traceback.print_exc()\n",
        "        \n",
        "\n",
        "df=pd.DataFrame.from_dict(tickers,orient='index')\n",
        "df = df.reset_index()\n",
        "df"
      ],
      "metadata": {
        "id": "3In4GYo6Qdr0"
      },
      "execution_count": null,
      "outputs": []
    },
    {
      "cell_type": "code",
      "source": [
        "df.sort_values(by=[0])\n",
        "ohlcv"
      ],
      "metadata": {
        "id": "gYJy2gb5XVhc"
      },
      "execution_count": null,
      "outputs": []
    },
    {
      "cell_type": "code",
      "source": [
        "top10 = df.sort_values(by=[0]).head(10)\n",
        "topnames = top10['index'].values\n",
        "# topnames=['VBL','ATGL']\n",
        "for name in topnames: \n",
        "    try:\n",
        "          \n",
        "        ohlcv = yf.download(name +'.NS',datetime_object -dt.timedelta(periodinput),datetime_object)\n",
        "        ohlcv['minmax']=min_max(ohlcv['Close'].values)\n",
        "        \n",
        "        ohlcv['expected'] =  graphfit(ohlcv)\n",
        "\n",
        "        ohlcv['result'] = ohlcv.apply(lambda x: (x['minmax'] - x['expected'] ) , axis=1)\n",
        "        \n",
        "        print(name) \n",
        "        colname = 'Close'\n",
        "        # plotgraph(ohlcv, name)\n",
        "        # colname = 'expected'\n",
        "        # plotgraph(ohlcv, colname)\n",
        "        \n",
        "        \n",
        "    \n",
        "    except Exception as ex:\n",
        "        print(ex)#raised if  is empty.\n",
        "        print(\"ERROR: \", name)\n",
        "   \n",
        "        traceback.print_exc()"
      ],
      "metadata": {
        "id": "gocgooIS7o9D"
      },
      "execution_count": null,
      "outputs": []
    },
    {
      "cell_type": "markdown",
      "source": [
        "🤑 **Result**\n"
      ],
      "metadata": {
        "id": "qhtqRqltEEkA"
      }
    },
    {
      "cell_type": "code",
      "source": [
        "print(topnames)\n",
        "x, y =returnpercent(topnames, daterange)\n",
        "print(\"RESULT : \",x)"
      ],
      "metadata": {
        "id": "UPjeE8CaUReo"
      },
      "execution_count": null,
      "outputs": []
    },
    {
      "cell_type": "code",
      "source": [
        "x, y = returnpercent_v2(topnames, 52 , daterange )\n",
        "print(\"RESULT : \",x)"
      ],
      "metadata": {
        "id": "nQaICNAc2dTe"
      },
      "execution_count": null,
      "outputs": []
    },
    {
      "cell_type": "code",
      "source": [
        "ohlcv"
      ],
      "metadata": {
        "id": "MeSuFlETujdk"
      },
      "execution_count": null,
      "outputs": []
    }
  ]
}