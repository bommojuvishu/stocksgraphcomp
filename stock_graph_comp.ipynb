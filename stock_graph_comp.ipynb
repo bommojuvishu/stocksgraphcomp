{
  "nbformat": 4,
  "nbformat_minor": 0,
  "metadata": {
    "colab": {
      "name": "stock_graph_comp.ipynb",
      "provenance": [],
      "authorship_tag": "ABX9TyPm/HLXlEjqNyfRjF0sqkf6",
      "include_colab_link": true
    },
    "kernelspec": {
      "name": "python3",
      "display_name": "Python 3"
    },
    "language_info": {
      "name": "python"
    }
  },
  "cells": [
    {
      "cell_type": "markdown",
      "metadata": {
        "id": "view-in-github",
        "colab_type": "text"
      },
      "source": [
        "<a href=\"https://colab.research.google.com/github/bommojuvishu/stocksgraphcomp/blob/main/stock_graph_comp.ipynb\" target=\"_parent\"><img src=\"https://colab.research.google.com/assets/colab-badge.svg\" alt=\"Open In Colab\"/></a>"
      ]
    },
    {
      "cell_type": "code",
      "execution_count": 1,
      "metadata": {
        "colab": {
          "base_uri": "https://localhost:8080/"
        },
        "id": "G_PUjcdjQEbX",
        "outputId": "83f264c2-37a1-4f7f-d6a2-607579a788d4"
      },
      "outputs": [
        {
          "output_type": "stream",
          "name": "stdout",
          "text": [
            "Looking in indexes: https://pypi.org/simple, https://us-python.pkg.dev/colab-wheels/public/simple/\n",
            "Collecting yfinance\n",
            "  Downloading yfinance-0.1.74-py2.py3-none-any.whl (27 kB)\n",
            "Requirement already satisfied: numpy>=1.15 in /usr/local/lib/python3.7/dist-packages (from yfinance) (1.21.6)\n",
            "Collecting requests>=2.26\n",
            "  Downloading requests-2.28.1-py3-none-any.whl (62 kB)\n",
            "\u001b[K     |████████████████████████████████| 62 kB 1.3 MB/s \n",
            "\u001b[?25hRequirement already satisfied: pandas>=0.24.0 in /usr/local/lib/python3.7/dist-packages (from yfinance) (1.3.5)\n",
            "Requirement already satisfied: multitasking>=0.0.7 in /usr/local/lib/python3.7/dist-packages (from yfinance) (0.0.11)\n",
            "Requirement already satisfied: lxml>=4.5.1 in /usr/local/lib/python3.7/dist-packages (from yfinance) (4.9.1)\n",
            "Requirement already satisfied: python-dateutil>=2.7.3 in /usr/local/lib/python3.7/dist-packages (from pandas>=0.24.0->yfinance) (2.8.2)\n",
            "Requirement already satisfied: pytz>=2017.3 in /usr/local/lib/python3.7/dist-packages (from pandas>=0.24.0->yfinance) (2022.1)\n",
            "Requirement already satisfied: six>=1.5 in /usr/local/lib/python3.7/dist-packages (from python-dateutil>=2.7.3->pandas>=0.24.0->yfinance) (1.15.0)\n",
            "Requirement already satisfied: certifi>=2017.4.17 in /usr/local/lib/python3.7/dist-packages (from requests>=2.26->yfinance) (2022.6.15)\n",
            "Requirement already satisfied: urllib3<1.27,>=1.21.1 in /usr/local/lib/python3.7/dist-packages (from requests>=2.26->yfinance) (1.24.3)\n",
            "Requirement already satisfied: idna<4,>=2.5 in /usr/local/lib/python3.7/dist-packages (from requests>=2.26->yfinance) (2.10)\n",
            "Requirement already satisfied: charset-normalizer<3,>=2 in /usr/local/lib/python3.7/dist-packages (from requests>=2.26->yfinance) (2.1.0)\n",
            "Installing collected packages: requests, yfinance\n",
            "  Attempting uninstall: requests\n",
            "    Found existing installation: requests 2.23.0\n",
            "    Uninstalling requests-2.23.0:\n",
            "      Successfully uninstalled requests-2.23.0\n",
            "Successfully installed requests-2.28.1 yfinance-0.1.74\n"
          ]
        }
      ],
      "source": [
        "!pip install yfinance"
      ]
    },
    {
      "cell_type": "code",
      "source": [
        "import yfinance as yf\n",
        "import numpy as np\n",
        "import datetime as dt\n",
        "import pandas as pd\n",
        "import datetime\n",
        "import os\n",
        "import traceback\n",
        "import matplotlib.pyplot as plt\n",
        "import json\n",
        "import logging \n",
        "\n"
      ],
      "metadata": {
        "id": "ZNQMJKAWQZSj"
      },
      "execution_count": 2,
      "outputs": []
    },
    {
      "cell_type": "code",
      "source": [
        "def min_max(data):\n",
        "  max_x = max(data)\n",
        "  min_x = min(data)\n",
        "  result = []\n",
        "  for x in data:\n",
        "    x = x - min_x\n",
        "    result.append(x/ (max_x - min_x))\n",
        "    \n",
        "  return result\n",
        "\n",
        "def plotgraph(df):\n",
        "  print(\"Line graph: \")\n",
        "  plt.plot(df.index, df[\"result\"])\n",
        "  plt.show()\n",
        "\n",
        "def createList(df):\n",
        "  interval = 1/(len(df))\n",
        "  result =np.arange(0, 1, interval)\n",
        "  lastElementIndex = len(result)-1\n",
        "  result = result[:lastElementIndex]\n",
        "\n",
        "  return result\n",
        "\n",
        "def computeCloud (data):\n",
        "    if data.Close > data.MovingAVG:\n",
        "        return 1\n",
        "    \n",
        "    return 0\n"
      ],
      "metadata": {
        "id": "pJ5RyZp8sIEC"
      },
      "execution_count": 13,
      "outputs": []
    },
    {
      "cell_type": "code",
      "source": [
        "liststocks = ['PERSISTENT','INFY']\n",
        "# liststocks = [\"DRREDDY\",\"ITC\",\"TECHM\",\"BPCL\",\"ULTRACEMCO\",\"SUNPHARMA\",\"WIPRO\",\"BRITANNIA\",\"INFY\",\"HCLTECH\",\"UPL\",\"NESTLEIND\",\"CIPLA\",\"HDFCBANK\",\"TCS\",\"SBIN\",\"IOC\",\"SHREECEM\",\"ADANIPORTS\",\"INDUSINDBK\",\"NTPC\",\"BAJAJ-AUTO\",\"ICICIBANK\",\"DIVISLAB\",\"HDFCLIFE\",\"POWERGRID\",\"GRASIM\",\"TATASTEEL\",\"RELIANCE\",\"SBILIFE\",\"KOTAKBANK\",\"LT\",\"HDFC\",\"BAJAJFINSV\",\"TATACONSUM\",\"BHARTIARTL\",\"ONGC\",\"EICHERMOT\",\"BAJFINANCE\",\"AXISBANK\",\"HINDALCO\",\"HINDUNILVR\",\"JSWSTEEL\",\"COALINDIA\",\"M&M\",\"TATAMOTORS\",\"HEROMOTOCO\",\"ASIANPAINT\",\"MARUTI\",\"TITAN\"]\n",
        "tickers={}\n",
        "\n",
        "TODAY = \"2021-11-30\"\n",
        "TODAY = dt.datetime.today().strftime('%Y-%m-%d')\n",
        "datetime_object = dt.datetime.strptime(TODAY, '%Y-%m-%d')\n",
        "\n",
        "\n",
        "for name in liststocks: \n",
        "    try:\n",
        "        finalresult = []\n",
        "        \n",
        "        # periods = ['1mo','3mo','6mo','1y']\n",
        "        periods = [365]\n",
        "        percentile = [1,3,6,12]\n",
        "        i=0\n",
        "        rsi = 0\n",
        "        abovecloudscore = 0\n",
        "        percentilerank = 0\n",
        "        \n",
        "        for per in periods:\n",
        "            ohlcv = yf.download(name +'.NS',datetime_object -dt.timedelta(per),datetime_object)\n",
        "        \n",
        "            ohlcv['minmax']=min_max(ohlcv['Close'].values)\n",
        "            print(\"MATCH:\",len(ohlcv), len(createList(ohlcv)))\n",
        "            ohlcv['expected'] = createList(ohlcv)\n",
        "            ohlcv['result'] = ohlcv.apply(lambda x: x['expected'] - x['minmax'], axis=1)\n",
        "            ohlcv['result'] = ohlcv['result'].abs()\n",
        "            # plotgraph(ohlcv)\n",
        "            \n",
        "            print(name)\n",
        "            finalresult.append(sum(ohlcv['result']))\n",
        "   \n",
        "\n",
        "        tickers[name] = finalresult\n",
        "    \n",
        "    except Exception as ex:\n",
        "        print(ex)#raised if `y` is empty.\n",
        "        print(\"ERROR: \", name)\n",
        "        liststocks.remove(name)\n",
        "        traceback.print_exc()\n",
        "        \n",
        "\n",
        "df=pd.DataFrame.from_dict(tickers,orient='index')\n",
        "df = df.reset_index()\n",
        "df"
      ],
      "metadata": {
        "colab": {
          "base_uri": "https://localhost:8080/",
          "height": 219
        },
        "id": "3In4GYo6Qdr0",
        "outputId": "563189a9-0489-45ec-ed80-31fa7a534862"
      },
      "execution_count": 14,
      "outputs": [
        {
          "output_type": "stream",
          "name": "stdout",
          "text": [
            "\r[*********************100%***********************]  1 of 1 completed\n",
            "MATCH: 249 249\n",
            "PERSISTENT\n",
            "[*********************100%***********************]  1 of 1 completed\n",
            "MATCH: 249 249\n",
            "INFY\n"
          ]
        },
        {
          "output_type": "execute_result",
          "data": {
            "text/plain": [
              "        index           0\n",
              "0  PERSISTENT   78.557615\n",
              "1        INFY  106.399762"
            ],
            "text/html": [
              "\n",
              "  <div id=\"df-8161cc32-57bf-45b9-8eb1-70c8df669c50\">\n",
              "    <div class=\"colab-df-container\">\n",
              "      <div>\n",
              "<style scoped>\n",
              "    .dataframe tbody tr th:only-of-type {\n",
              "        vertical-align: middle;\n",
              "    }\n",
              "\n",
              "    .dataframe tbody tr th {\n",
              "        vertical-align: top;\n",
              "    }\n",
              "\n",
              "    .dataframe thead th {\n",
              "        text-align: right;\n",
              "    }\n",
              "</style>\n",
              "<table border=\"1\" class=\"dataframe\">\n",
              "  <thead>\n",
              "    <tr style=\"text-align: right;\">\n",
              "      <th></th>\n",
              "      <th>index</th>\n",
              "      <th>0</th>\n",
              "    </tr>\n",
              "  </thead>\n",
              "  <tbody>\n",
              "    <tr>\n",
              "      <th>0</th>\n",
              "      <td>PERSISTENT</td>\n",
              "      <td>78.557615</td>\n",
              "    </tr>\n",
              "    <tr>\n",
              "      <th>1</th>\n",
              "      <td>INFY</td>\n",
              "      <td>106.399762</td>\n",
              "    </tr>\n",
              "  </tbody>\n",
              "</table>\n",
              "</div>\n",
              "      <button class=\"colab-df-convert\" onclick=\"convertToInteractive('df-8161cc32-57bf-45b9-8eb1-70c8df669c50')\"\n",
              "              title=\"Convert this dataframe to an interactive table.\"\n",
              "              style=\"display:none;\">\n",
              "        \n",
              "  <svg xmlns=\"http://www.w3.org/2000/svg\" height=\"24px\"viewBox=\"0 0 24 24\"\n",
              "       width=\"24px\">\n",
              "    <path d=\"M0 0h24v24H0V0z\" fill=\"none\"/>\n",
              "    <path d=\"M18.56 5.44l.94 2.06.94-2.06 2.06-.94-2.06-.94-.94-2.06-.94 2.06-2.06.94zm-11 1L8.5 8.5l.94-2.06 2.06-.94-2.06-.94L8.5 2.5l-.94 2.06-2.06.94zm10 10l.94 2.06.94-2.06 2.06-.94-2.06-.94-.94-2.06-.94 2.06-2.06.94z\"/><path d=\"M17.41 7.96l-1.37-1.37c-.4-.4-.92-.59-1.43-.59-.52 0-1.04.2-1.43.59L10.3 9.45l-7.72 7.72c-.78.78-.78 2.05 0 2.83L4 21.41c.39.39.9.59 1.41.59.51 0 1.02-.2 1.41-.59l7.78-7.78 2.81-2.81c.8-.78.8-2.07 0-2.86zM5.41 20L4 18.59l7.72-7.72 1.47 1.35L5.41 20z\"/>\n",
              "  </svg>\n",
              "      </button>\n",
              "      \n",
              "  <style>\n",
              "    .colab-df-container {\n",
              "      display:flex;\n",
              "      flex-wrap:wrap;\n",
              "      gap: 12px;\n",
              "    }\n",
              "\n",
              "    .colab-df-convert {\n",
              "      background-color: #E8F0FE;\n",
              "      border: none;\n",
              "      border-radius: 50%;\n",
              "      cursor: pointer;\n",
              "      display: none;\n",
              "      fill: #1967D2;\n",
              "      height: 32px;\n",
              "      padding: 0 0 0 0;\n",
              "      width: 32px;\n",
              "    }\n",
              "\n",
              "    .colab-df-convert:hover {\n",
              "      background-color: #E2EBFA;\n",
              "      box-shadow: 0px 1px 2px rgba(60, 64, 67, 0.3), 0px 1px 3px 1px rgba(60, 64, 67, 0.15);\n",
              "      fill: #174EA6;\n",
              "    }\n",
              "\n",
              "    [theme=dark] .colab-df-convert {\n",
              "      background-color: #3B4455;\n",
              "      fill: #D2E3FC;\n",
              "    }\n",
              "\n",
              "    [theme=dark] .colab-df-convert:hover {\n",
              "      background-color: #434B5C;\n",
              "      box-shadow: 0px 1px 3px 1px rgba(0, 0, 0, 0.15);\n",
              "      filter: drop-shadow(0px 1px 2px rgba(0, 0, 0, 0.3));\n",
              "      fill: #FFFFFF;\n",
              "    }\n",
              "  </style>\n",
              "\n",
              "      <script>\n",
              "        const buttonEl =\n",
              "          document.querySelector('#df-8161cc32-57bf-45b9-8eb1-70c8df669c50 button.colab-df-convert');\n",
              "        buttonEl.style.display =\n",
              "          google.colab.kernel.accessAllowed ? 'block' : 'none';\n",
              "\n",
              "        async function convertToInteractive(key) {\n",
              "          const element = document.querySelector('#df-8161cc32-57bf-45b9-8eb1-70c8df669c50');\n",
              "          const dataTable =\n",
              "            await google.colab.kernel.invokeFunction('convertToInteractive',\n",
              "                                                     [key], {});\n",
              "          if (!dataTable) return;\n",
              "\n",
              "          const docLinkHtml = 'Like what you see? Visit the ' +\n",
              "            '<a target=\"_blank\" href=https://colab.research.google.com/notebooks/data_table.ipynb>data table notebook</a>'\n",
              "            + ' to learn more about interactive tables.';\n",
              "          element.innerHTML = '';\n",
              "          dataTable['output_type'] = 'display_data';\n",
              "          await google.colab.output.renderOutput(dataTable, element);\n",
              "          const docLink = document.createElement('div');\n",
              "          docLink.innerHTML = docLinkHtml;\n",
              "          element.appendChild(docLink);\n",
              "        }\n",
              "      </script>\n",
              "    </div>\n",
              "  </div>\n",
              "  "
            ]
          },
          "metadata": {},
          "execution_count": 14
        }
      ]
    }
  ]
}