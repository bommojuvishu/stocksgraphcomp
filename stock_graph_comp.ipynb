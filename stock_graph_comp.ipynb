{
  "nbformat": 4,
  "nbformat_minor": 0,
  "metadata": {
    "colab": {
      "name": "stock_graph_comp.ipynb",
      "provenance": [],
      "authorship_tag": "ABX9TyMnU2ZrCrzviCy28afpqUrr",
      "include_colab_link": true
    },
    "kernelspec": {
      "name": "python3",
      "display_name": "Python 3"
    },
    "language_info": {
      "name": "python"
    }
  },
  "cells": [
    {
      "cell_type": "markdown",
      "metadata": {
        "id": "view-in-github",
        "colab_type": "text"
      },
      "source": [
        "<a href=\"https://colab.research.google.com/github/bommojuvishu/stocksgraphcomp/blob/main/stock_graph_comp.ipynb\" target=\"_parent\"><img src=\"https://colab.research.google.com/assets/colab-badge.svg\" alt=\"Open In Colab\"/></a>"
      ]
    },
    {
      "cell_type": "code",
      "execution_count": 1,
      "metadata": {
        "colab": {
          "base_uri": "https://localhost:8080/"
        },
        "id": "G_PUjcdjQEbX",
        "outputId": "83f264c2-37a1-4f7f-d6a2-607579a788d4"
      },
      "outputs": [
        {
          "output_type": "stream",
          "name": "stdout",
          "text": [
            "Looking in indexes: https://pypi.org/simple, https://us-python.pkg.dev/colab-wheels/public/simple/\n",
            "Collecting yfinance\n",
            "  Downloading yfinance-0.1.74-py2.py3-none-any.whl (27 kB)\n",
            "Requirement already satisfied: numpy>=1.15 in /usr/local/lib/python3.7/dist-packages (from yfinance) (1.21.6)\n",
            "Collecting requests>=2.26\n",
            "  Downloading requests-2.28.1-py3-none-any.whl (62 kB)\n",
            "\u001b[K     |████████████████████████████████| 62 kB 1.3 MB/s \n",
            "\u001b[?25hRequirement already satisfied: pandas>=0.24.0 in /usr/local/lib/python3.7/dist-packages (from yfinance) (1.3.5)\n",
            "Requirement already satisfied: multitasking>=0.0.7 in /usr/local/lib/python3.7/dist-packages (from yfinance) (0.0.11)\n",
            "Requirement already satisfied: lxml>=4.5.1 in /usr/local/lib/python3.7/dist-packages (from yfinance) (4.9.1)\n",
            "Requirement already satisfied: python-dateutil>=2.7.3 in /usr/local/lib/python3.7/dist-packages (from pandas>=0.24.0->yfinance) (2.8.2)\n",
            "Requirement already satisfied: pytz>=2017.3 in /usr/local/lib/python3.7/dist-packages (from pandas>=0.24.0->yfinance) (2022.1)\n",
            "Requirement already satisfied: six>=1.5 in /usr/local/lib/python3.7/dist-packages (from python-dateutil>=2.7.3->pandas>=0.24.0->yfinance) (1.15.0)\n",
            "Requirement already satisfied: certifi>=2017.4.17 in /usr/local/lib/python3.7/dist-packages (from requests>=2.26->yfinance) (2022.6.15)\n",
            "Requirement already satisfied: urllib3<1.27,>=1.21.1 in /usr/local/lib/python3.7/dist-packages (from requests>=2.26->yfinance) (1.24.3)\n",
            "Requirement already satisfied: idna<4,>=2.5 in /usr/local/lib/python3.7/dist-packages (from requests>=2.26->yfinance) (2.10)\n",
            "Requirement already satisfied: charset-normalizer<3,>=2 in /usr/local/lib/python3.7/dist-packages (from requests>=2.26->yfinance) (2.1.0)\n",
            "Installing collected packages: requests, yfinance\n",
            "  Attempting uninstall: requests\n",
            "    Found existing installation: requests 2.23.0\n",
            "    Uninstalling requests-2.23.0:\n",
            "      Successfully uninstalled requests-2.23.0\n",
            "Successfully installed requests-2.28.1 yfinance-0.1.74\n"
          ]
        }
      ],
      "source": [
        "!pip install yfinance"
      ]
    },
    {
      "cell_type": "code",
      "source": [
        "import yfinance as yf\n",
        "import numpy as np\n",
        "import datetime as dt\n",
        "import pandas as pd\n",
        "import datetime\n",
        "import os\n",
        "import traceback\n",
        "import matplotlib.pyplot as plt\n",
        "import json\n",
        "import logging \n",
        "\n"
      ],
      "metadata": {
        "id": "ZNQMJKAWQZSj"
      },
      "execution_count": 2,
      "outputs": []
    },
    {
      "cell_type": "code",
      "source": [
        "def min_max(data):\n",
        "  max_x = max(data)\n",
        "  min_x = min(data)\n",
        "  result = []\n",
        "  for x in data:\n",
        "    x = x - min_x\n",
        "    result.append(x/ (max_x - min_x))\n",
        "    \n",
        "  return result\n",
        "\n",
        "def plotgraph(df):\n",
        "  print(\"Line graph: \")\n",
        "  plt.plot(df.index, df[\"result\"])\n",
        "  plt.show()\n",
        "\n",
        "def createList(df):\n",
        "  interval = 1/(len(df))\n",
        "  result =np.arange(0, 1, interval)\n",
        "\n",
        "  if len(result) != len(df):\n",
        "    lastElementIndex = len(result)-1\n",
        "    result = result[:lastElementIndex]\n",
        "\n",
        "  return result\n",
        "\n",
        "def computeCloud (data):\n",
        "    if data.Close > data.MovingAVG:\n",
        "        return 1\n",
        "    \n",
        "    return 0\n"
      ],
      "metadata": {
        "id": "pJ5RyZp8sIEC"
      },
      "execution_count": 15,
      "outputs": []
    },
    {
      "cell_type": "code",
      "source": [
        "#nifty 50\n",
        "liststocks =[\"HINDALCO\",\"JSWSTEEL\",\"CIPLA\",\"INFY\",\"TATASTEEL\",\"NESTLEIND\",\"APOLLOHOSP\",\"DRREDDY\",\"DIVISLAB\",\"WIPRO\",\"ULTRACEMCO\",\"SUNPHARMA\",\"ASIANPAINT\",\"HCLTECH\",\"TECHM\",\"ADANIPORTS\",\"LT\",\"UPL\",\"ITC\",\"BAJFINANCE\",\"TCS\",\"HDFCBANK\",\"ONGC\",\"TATAMOTORS\",\"GRASIM\",\"HEROMOTOCO\",\"EICHERMOT\",\"BAJAJFINSV\",\"BPCL\",\"HINDUNILVR\",\"INDUSINDBK\",\"HDFCLIFE\",\"AXISBANK\",\"M&M\",\"HDFC\",\"ICICIBANK\",\"BAJAJ-AUTO\",\"BRITANNIA\",\"SHREECEM\",\"TITAN\",\"POWERGRID\",\"SBILIFE\",\"KOTAKBANK\",\"BHARTIARTL\",\"MARUTI\",\"RELIANCE\",\"SBIN\",\"COALINDIA\",\"NTPC\",\"TATACONSUM\"]"
      ],
      "metadata": {
        "id": "EFMUy_35XXpz"
      },
      "execution_count": 19,
      "outputs": []
    },
    {
      "cell_type": "code",
      "source": [
        "#nifty 500\n",
        "liststocks = [\"3MINDIA\",\"ABB\",\"ACC\",\"AIAENG\",\"APLAPOLLO\",\"AUBANK\",\"AARTIDRUGS\",\"AARTIIND\",\"AAVAS\",\"ABBOTINDIA\",\"ADANIENT\",\"ADANIGREEN\",\"ADANIPORTS\",\"ATGL\",\"ADANITRANS\",\"ABCAPITAL\",\"ABFRL\",\"ADVENZYMES\",\"AEGISCHEM\",\"AFFLE\",\"AJANTPHARM\",\"ALEMBICLTD\",\"APLLTD\",\"ALKEM\",\"ALKYLAMINE\",\"ALOKINDS\",\"AMARAJABAT\",\"AMBER\",\"AMBUJACEM\",\"ANGELONE\",\"ANURAS\",\"APOLLOHOSP\",\"APOLLOTYRE\",\"ASAHIINDIA\",\"ASHOKLEY\",\"ASHOKA\",\"ASIANPAINT\",\"ASTERDM\",\"ASTRAZEN\",\"ASTRAL\",\"ATUL\",\"AUROPHARMA\",\"AVANTIFEED\",\"DMART\",\"AXISBANK\",\"BASF\",\"BEML\",\"BSE\",\"BAJAJ-AUTO\",\"BAJAJCON\",\"BAJAJELEC\",\"BAJFINANCE\",\"BAJAJFINSV\",\"BAJAJHLDNG\",\"BALAMINES\",\"BALKRISIND\",\"BALRAMCHIN\",\"BANDHANBNK\",\"BANKBARODA\",\"BANKINDIA\",\"MAHABANK\",\"BATAINDIA\",\"BAYERCROP\",\"BERGEPAINT\",\"BDL\",\"BEL\",\"BHARATFORG\",\"BHEL\",\"BPCL\",\"BHARATRAS\",\"BHARTIARTL\",\"BIOCON\",\"BIRLACORPN\",\"BSOFT\",\"BLUEDART\",\"BLUESTARCO\",\"BBTC\",\"BOSCHLTD\",\"BRIGADE\",\"BRITANNIA\",\"CCL\",\"CESC\",\"CGPOWER\",\"CRISIL\",\"CSBBANK\",\"CADILAHC\",\"CANFINHOME\",\"CANBK\",\"CAPLIPOINT\",\"CGCL\",\"CARBORUNIV\",\"CASTROLIND\",\"CEATLTD\",\"CENTRALBK\",\"CDSL\",\"CENTURYPLY\",\"CENTURYTEX\",\"CERA\",\"CHALET\",\"CHAMBLFERT\",\"CHOLAHLDNG\",\"CHOLAFIN\",\"CIPLA\",\"CUB\",\"COALINDIA\",\"COCHINSHIP\",\"COFORGE\",\"COLPAL\",\"CAMS\",\"CONCOR\",\"COROMANDEL\",\"CREDITACC\",\"CROMPTON\",\"CUMMINSIND\",\"CYIENT\",\"DCBBANK\",\"DCMSHRIRAM\",\"DLF\",\"DABUR\",\"DALBHARAT\",\"DEEPAKNTR\",\"DELTACORP\",\"DHANI\",\"DHANUKA\",\"DBL\",\"DIVISLAB\",\"DIXON\",\"LALPATHLAB\",\"DRREDDY\",\"EIDPARRY\",\"EIHOTEL\",\"EPL\",\"EDELWEISS\",\"EICHERMOT\",\"ELGIEQUIP\",\"EMAMILTD\",\"ENDURANCE\",\"ENGINERSIN\",\"EQUITAS\",\"EQUITASBNK\",\"ERIS\",\"ESCORTS\",\"EXIDEIND\",\"FDC\",\"FEDERALBNK\",\"FACT\",\"FINEORG\",\"FINCABLES\",\"FINPIPE\",\"FSL\",\"FORTIS\",\"FRETAIL\",\"GAIL\",\"GMMPFAUDLR\",\"GALAXYSURF\",\"GARFIBRES\",\"GICRE\",\"GILLETTE\",\"GLAND\",\"GLAXO\",\"GLENMARK\",\"GODFRYPHLP\",\"GODREJAGRO\",\"GODREJCP\",\"GODREJIND\",\"GODREJPROP\",\"GRANULES\",\"GRAPHITE\",\"GRASIM\",\"GESHIP\",\"GREAVESCOT\",\"GRINDWELL\",\"GUJALKALI\",\"GAEL\",\"FLUOROCHEM\",\"GUJGASLTD\",\"GNFC\",\"GPPL\",\"GSFC\",\"GSPL\",\"HEG\",\"HCLTECH\",\"HDFCAMC\",\"HDFCBANK\",\"HDFCLIFE\",\"HFCL\",\"HAPPSTMNDS\",\"HATHWAY\",\"HATSUN\",\"HAVELLS\",\"HEIDELBERG\",\"HEMIPROP\",\"HEROMOTOCO\",\"HIKAL\",\"HINDALCO\",\"HGS\",\"HAL\",\"HINDCOPPER\",\"HINDPETRO\",\"HINDUNILVR\",\"HINDZINC\",\"POWERINDIA\",\"HOMEFIRST\",\"HONAUT\",\"HUDCO\",\"HDFC\",\"ICICIBANK\",\"ICICIGI\",\"ICICIPRULI\",\"ISEC\",\"IDBI\",\"IDFCFIRSTB\",\"IDFC\",\"IFBIND\",\"IIFL\",\"IIFLWAM\",\"IOLCP\",\"IRB\",\"IRCON\",\"ITC\",\"ITI\",\"INDIACEM\",\"IBULHSGFIN\",\"IBREALEST\",\"INDIAMART\",\"INDIANB\",\"IEX\",\"INDHOTEL\",\"IOC\",\"IOB\",\"IRCTC\",\"IRFC\",\"INDIGOPNTS\",\"ICIL\",\"INDOCO\",\"IGL\",\"INDUSTOWER\",\"INDUSINDBK\",\"INFIBEAM\",\"NAUKRI\",\"INFY\",\"INGERRAND\",\"INOXLEISUR\",\"INTELLECT\",\"INDIGO\",\"IPCALAB\",\"JBCHEPHARM\",\"JKCEMENT\",\"JKLAKSHMI\",\"JKPAPER\",\"JKTYRE\",\"JMFINANCIL\",\"JSWENERGY\",\"JSWSTEEL\",\"JAMNAAUTO\",\"JINDALSAW\",\"JSLHISAR\",\"JSL\",\"JINDALSTEL\",\"JCHAC\",\"JUBLFOOD\",\"JUBLINGREA\",\"JUBLPHARMA\",\"JUSTDIAL\",\"JYOTHYLAB\",\"KPRMILL\",\"KEI\",\"KNRCON\",\"KPITTECH\",\"KRBL\",\"KSB\",\"KAJARIACER\",\"KALPATPOWR\",\"KALYANKJIL\",\"KANSAINER\",\"KARURVYSYA\",\"KSCL\",\"KEC\",\"KOTAKBANK\",\"L&TFH\",\"LTTS\",\"LICHSGFIN\",\"LAOPALA\",\"LAXMIMACH\",\"LTI\",\"LT\",\"LAURUSLABS\",\"LXCHEM\",\"LEMONTREE\",\"LINDEINDIA\",\"LUPIN\",\"LUXIND\",\"MMTC\",\"MOIL\",\"MRF\",\"LODHA\",\"MGL\",\"M&MFIN\",\"M&M\",\"MAHINDCIE\",\"MHRIL\",\"MAHLOG\",\"MANAPPURAM\",\"MRPL\",\"MARICO\",\"MARUTI\",\"MASTEK\",\"MFSL\",\"MAXHEALTH\",\"MAZDOCK\",\"METROPOLIS\",\"MINDTREE\",\"MINDACORP\",\"MINDAIND\",\"MIDHANI\",\"MOTILALOFS\",\"MPHASIS\",\"MCX\",\"MUTHOOTFIN\",\"NATCOPHARM\",\"NBCC\",\"NCC\",\"NESCO\",\"NHPC\",\"NLCINDIA\",\"NMDC\",\"NOCIL\",\"NTPC\",\"NH\",\"NATIONALUM\",\"NFL\",\"NAVINFLUOR\",\"NAZARA\",\"NESTLEIND\",\"NETWORK18\",\"NILKAMAL\",\"NAM-INDIA\",\"OBEROIRLTY\",\"ONGC\",\"OIL\",\"OFSS\",\"ORIENTELEC\",\"PCBL\",\"PIIND\",\"PNBHOUSING\",\"PNCINFRA\",\"PVR\",\"PAGEIND\",\"PERSISTENT\",\"PETRONET\",\"PFIZER\",\"PHOENIXLTD\",\"PIDILITIND\",\"PEL\",\"POLYMED\",\"POLYCAB\",\"POLYPLEX\",\"POONAWALLA\",\"PFC\",\"POWERGRID\",\"PRAJIND\",\"PRESTIGE\",\"PRINCEPIPE\",\"PRSMJOHNSN\",\"PGHL\",\"PGHH\",\"PNB\",\"QUESS\",\"RBLBANK\",\"RECLTD\",\"RHIM\",\"RITES\",\"RADICO\",\"RVNL\",\"RAILTEL\",\"RAIN\",\"RAJESHEXPO\",\"RALLIS\",\"RCF\",\"RATNAMANI\",\"REDINGTON\",\"RELAXO\",\"RELIANCE\",\"RBA\",\"ROSSARI\",\"ROUTE\",\"SBICARD\",\"SBILIFE\",\"SIS\",\"SJVN\",\"SKFINDIA\",\"SRF\",\"SANOFI\",\"SCHAEFFLER\",\"SCHNEIDER\",\"SEQUENT\",\"SHARDACROP\",\"SFL\",\"SHILPAMED\",\"SCI\",\"SHREECEM\",\"SHRIRAMCIT\",\"SRTRANSFIN\",\"SIEMENS\",\"SOBHA\",\"SOLARINDS\",\"SOLARA\",\"SONACOMS\",\"SONATSOFTW\",\"SPANDANA\",\"SPICEJET\",\"STARCEMENT\",\"SBIN\",\"SAIL\",\"SWSOLAR\",\"STLTECH\",\"STAR\",\"SUDARSCHEM\",\"SUMICHEM\",\"SPARC\",\"SUNPHARMA\",\"SUNTV\",\"SUNDARMFIN\",\"SUNDRMFAST\",\"SUNTECK\",\"SUPRAJIT\",\"SUPREMEIND\",\"SUPPETRO\",\"SUVENPHAR\",\"SUZLON\",\"SYMPHONY\",\"SYNGENE\",\"TCIEXP\",\"TCNSBRANDS\",\"TTKPRESTIG\",\"TV18BRDCST\",\"TVSMOTOR\",\"TANLA\",\"TASTYBITE\",\"TATACHEM\",\"TATACOFFEE\",\"TATACOMM\",\"TCS\",\"TATACONSUM\",\"TATAELXSI\",\"TATAMTRDVR\",\"TATAMOTORS\",\"TATAPOWER\",\"TATASTLLP\",\"TATASTEEL\",\"TTML\",\"TEAMLEASE\",\"TECHM\",\"NIACL\",\"RAMCOCEM\",\"THERMAX\",\"THYROCARE\",\"TIMKEN\",\"TITAN\",\"TORNTPHARM\",\"TORNTPOWER\",\"TRENT\",\"TRIDENT\",\"TRITURBINE\",\"TIINDIA\",\"UCOBANK\",\"UFLEX\",\"UPL\",\"UTIAMC\",\"UJJIVAN\",\"UJJIVANSFB\",\"ULTRACEMCO\",\"UNIONBANK\",\"UBL\",\"MCDOWELL-N\",\"VGUARD\",\"VMART\",\"VIPIND\",\"VAIBHAVGBL\",\"VAKRANGEE\",\"VALIANTORG\",\"VTL\",\"VARROC\",\"VBL\",\"VEDL\",\"VENKEYS\",\"VINATIORGA\",\"IDEA\",\"VOLTAS\",\"WABCOINDIA\",\"WELCORP\",\"WELSPUNIND\",\"WESTLIFE\",\"WHIRLPOOL\",\"WIPRO\",\"WOCKPHARMA\",\"YESBANK\",\"ZEEL\",\"ZENSARTECH\",\"ZYDUSWELL\",\"ECLERX\"]"
      ],
      "metadata": {
        "id": "Zl8JACz6WbEW"
      },
      "execution_count": null,
      "outputs": []
    },
    {
      "cell_type": "code",
      "source": [
        "# liststocks = ['PERSISTENT','INFY','M&M']\n",
        "# liststocks = [\"DRREDDY\",\"ITC\",\"TECHM\",\"BPCL\",\"ULTRACEMCO\",\"SUNPHARMA\",\"WIPRO\",\"BRITANNIA\",\"INFY\",\"HCLTECH\",\"UPL\",\"NESTLEIND\",\"CIPLA\",\"HDFCBANK\",\"TCS\",\"SBIN\",\"IOC\",\"SHREECEM\",\"ADANIPORTS\",\"INDUSINDBK\",\"NTPC\",\"BAJAJ-AUTO\",\"ICICIBANK\",\"DIVISLAB\",\"HDFCLIFE\",\"POWERGRID\",\"GRASIM\",\"TATASTEEL\",\"RELIANCE\",\"SBILIFE\",\"KOTAKBANK\",\"LT\",\"HDFC\",\"BAJAJFINSV\",\"TATACONSUM\",\"BHARTIARTL\",\"ONGC\",\"EICHERMOT\",\"BAJFINANCE\",\"AXISBANK\",\"HINDALCO\",\"HINDUNILVR\",\"JSWSTEEL\",\"COALINDIA\",\"M&M\",\"TATAMOTORS\",\"HEROMOTOCO\",\"ASIANPAINT\",\"MARUTI\",\"TITAN\"]\n",
        "tickers={}\n",
        "\n",
        "TODAY = \"2021-11-30\"\n",
        "TODAY = dt.datetime.today().strftime('%Y-%m-%d')\n",
        "datetime_object = dt.datetime.strptime(TODAY, '%Y-%m-%d')\n",
        "\n",
        "\n",
        "for name in liststocks: \n",
        "    try:\n",
        "        finalresult = []\n",
        "        \n",
        "        # periods = ['1mo','3mo','6mo','1y']\n",
        "        periods = [365]\n",
        "        percentile = [1,3,6,12]\n",
        "        i=0\n",
        "        rsi = 0\n",
        "        abovecloudscore = 0\n",
        "        percentilerank = 0\n",
        "        \n",
        "        for per in periods:\n",
        "            ohlcv = yf.download(name +'.NS',datetime_object -dt.timedelta(per),datetime_object)\n",
        "        \n",
        "            ohlcv['minmax']=min_max(ohlcv['Close'].values)\n",
        "            print(\"MATCH:\",len(ohlcv), len(createList(ohlcv)))\n",
        "            ohlcv['expected'] = createList(ohlcv)\n",
        "            ohlcv['result'] = ohlcv.apply(lambda x: x['expected'] - x['minmax'], axis=1)\n",
        "            ohlcv['result'] = ohlcv['result'].abs()\n",
        "            # plotgraph(ohlcv)\n",
        "            \n",
        "            print(name)\n",
        "            finalresult.append(sum(ohlcv['result']))\n",
        "   \n",
        "\n",
        "        tickers[name] = finalresult\n",
        "    \n",
        "    except Exception as ex:\n",
        "        print(ex)#raised if `y` is empty.\n",
        "        print(\"ERROR: \", name)\n",
        "        liststocks.remove(name)\n",
        "        traceback.print_exc()\n",
        "        \n",
        "\n",
        "df=pd.DataFrame.from_dict(tickers,orient='index')\n",
        "df = df.reset_index()\n",
        "df"
      ],
      "metadata": {
        "colab": {
          "base_uri": "https://localhost:8080/"
        },
        "id": "3In4GYo6Qdr0",
        "outputId": "a3d29832-979b-4c9a-b493-b65141167697"
      },
      "execution_count": null,
      "outputs": [
        {
          "output_type": "stream",
          "name": "stdout",
          "text": [
            "\r[*********************100%***********************]  1 of 1 completed\n",
            "MATCH: 249 249\n",
            "HINDALCO\n",
            "[*********************100%***********************]  1 of 1 completed\n",
            "MATCH: 249 249\n",
            "JSWSTEEL\n",
            "[*********************100%***********************]  1 of 1 completed\n",
            "MATCH: 249 249\n",
            "CIPLA\n",
            "[*********************100%***********************]  1 of 1 completed\n",
            "MATCH: 249 249\n",
            "INFY\n",
            "[*********************100%***********************]  1 of 1 completed\n",
            "MATCH: 249 249\n",
            "TATASTEEL\n",
            "[*********************100%***********************]  1 of 1 completed\n",
            "MATCH: 249 249\n",
            "NESTLEIND\n",
            "[*********************100%***********************]  1 of 1 completed\n",
            "MATCH: 249 249\n",
            "APOLLOHOSP\n",
            "[*********************100%***********************]  1 of 1 completed\n",
            "MATCH: 249 249\n",
            "DRREDDY\n",
            "[*********************100%***********************]  1 of 1 completed\n",
            "MATCH: 249 249\n",
            "DIVISLAB\n",
            "[*********************100%***********************]  1 of 1 completed\n",
            "MATCH: 249 249\n",
            "WIPRO\n",
            "[*********************100%***********************]  1 of 1 completed\n",
            "MATCH: 249 249\n",
            "ULTRACEMCO\n",
            "[*********************100%***********************]  1 of 1 completed\n",
            "MATCH: 249 249\n",
            "SUNPHARMA\n",
            "[*********************100%***********************]  1 of 1 completed\n",
            "MATCH: 249 249\n",
            "ASIANPAINT\n",
            "[*********************100%***********************]  1 of 1 completed\n",
            "MATCH: 249 249\n",
            "HCLTECH\n",
            "[*********************100%***********************]  1 of 1 completed\n",
            "MATCH: 249 249\n",
            "TECHM\n",
            "[*********************100%***********************]  1 of 1 completed\n",
            "MATCH: 249 249\n",
            "ADANIPORTS\n",
            "[*********************100%***********************]  1 of 1 completed\n",
            "MATCH: 249 249\n",
            "LT\n",
            "[*********************100%***********************]  1 of 1 completed\n",
            "MATCH: 249 249\n",
            "UPL\n",
            "[*********************100%***********************]  1 of 1 completed\n",
            "MATCH: 249 249\n",
            "ITC\n",
            "[*********************100%***********************]  1 of 1 completed\n",
            "MATCH: 249 249\n",
            "BAJFINANCE\n",
            "[*********************100%***********************]  1 of 1 completed\n",
            "MATCH: 249 249\n",
            "TCS\n",
            "[*********************100%***********************]  1 of 1 completed\n",
            "MATCH: 249 249\n",
            "HDFCBANK\n",
            "[*********************100%***********************]  1 of 1 completed\n",
            "MATCH: 249 249\n",
            "ONGC\n",
            "[*********************100%***********************]  1 of 1 completed\n",
            "MATCH: 249 249\n",
            "TATAMOTORS\n",
            "[*********************100%***********************]  1 of 1 completed\n",
            "MATCH: 249 249\n",
            "GRASIM\n",
            "[*********************100%***********************]  1 of 1 completed\n",
            "MATCH: 249 249\n",
            "HEROMOTOCO\n",
            "[*********************100%***********************]  1 of 1 completed\n",
            "MATCH: 249 249\n",
            "EICHERMOT\n",
            "[*********************100%***********************]  1 of 1 completed\n",
            "MATCH: 249 249\n",
            "BAJAJFINSV\n",
            "[*********************100%***********************]  1 of 1 completed\n",
            "MATCH: 249 249\n",
            "BPCL\n",
            "[*********************100%***********************]  1 of 1 completed\n",
            "MATCH: 249 249\n",
            "HINDUNILVR\n",
            "[*********************100%***********************]  1 of 1 completed\n",
            "MATCH: 249 249\n",
            "INDUSINDBK\n",
            "[*********************100%***********************]  1 of 1 completed\n",
            "MATCH: 249 249\n",
            "HDFCLIFE\n",
            "[*********************100%***********************]  1 of 1 completed\n",
            "MATCH: 249 249\n",
            "AXISBANK\n",
            "[*********************100%***********************]  1 of 1 completed\n",
            "MATCH: 249 249\n",
            "M&M\n",
            "[*********************100%***********************]  1 of 1 completed\n",
            "MATCH: 249 249\n",
            "HDFC\n",
            "[*********************100%***********************]  1 of 1 completed\n",
            "MATCH: 249 249\n",
            "ICICIBANK\n",
            "[*********************100%***********************]  1 of 1 completed\n",
            "MATCH: 249 249\n",
            "BAJAJ-AUTO\n",
            "[*********************100%***********************]  1 of 1 completed\n",
            "MATCH: 249 249\n",
            "BRITANNIA\n",
            "[*********************100%***********************]  1 of 1 completed\n",
            "MATCH: 249 249\n",
            "SHREECEM\n",
            "[*********************100%***********************]  1 of 1 completed\n",
            "MATCH: 249 249\n",
            "TITAN\n",
            "[*********************100%***********************]  1 of 1 completed\n",
            "MATCH: 249 249\n",
            "POWERGRID\n",
            "[*********************100%***********************]  1 of 1 completed\n",
            "MATCH: 249 249\n",
            "SBILIFE\n",
            "[*********************100%***********************]  1 of 1 completed\n",
            "MATCH: 249 249\n",
            "KOTAKBANK\n",
            "[*********************100%***********************]  1 of 1 completed\n",
            "MATCH: 249 249\n",
            "BHARTIARTL\n",
            "[*********************100%***********************]  1 of 1 completed"
          ]
        }
      ]
    },
    {
      "cell_type": "code",
      "source": [
        "df"
      ],
      "metadata": {
        "id": "gYJy2gb5XVhc"
      },
      "execution_count": null,
      "outputs": []
    }
  ]
}