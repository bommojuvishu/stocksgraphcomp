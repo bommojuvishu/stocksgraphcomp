{
  "nbformat": 4,
  "nbformat_minor": 0,
  "metadata": {
    "colab": {
      "name": "stock_graph_comp.ipynb",
      "provenance": [],
      "authorship_tag": "ABX9TyPGaWq8aFOlDS2+6N19aIp6",
      "include_colab_link": true
    },
    "kernelspec": {
      "name": "python3",
      "display_name": "Python 3"
    },
    "language_info": {
      "name": "python"
    }
  },
  "cells": [
    {
      "cell_type": "markdown",
      "metadata": {
        "id": "view-in-github",
        "colab_type": "text"
      },
      "source": [
        "<a href=\"https://colab.research.google.com/github/bommojuvishu/stocksgraphcomp/blob/main/stock_graph_comp.ipynb\" target=\"_parent\"><img src=\"https://colab.research.google.com/assets/colab-badge.svg\" alt=\"Open In Colab\"/></a>"
      ]
    },
    {
      "cell_type": "markdown",
      "source": [
        "**Comparing the stocks that are max linear graphs**"
      ],
      "metadata": {
        "id": "MrU7e9XLo9E6"
      }
    },
    {
      "cell_type": "code",
      "execution_count": null,
      "metadata": {
        "colab": {
          "base_uri": "https://localhost:8080/"
        },
        "id": "G_PUjcdjQEbX",
        "outputId": "71061676-dfd2-40f3-f425-5dc4a1e30b6b"
      },
      "outputs": [
        {
          "output_type": "stream",
          "name": "stdout",
          "text": [
            "Looking in indexes: https://pypi.org/simple, https://us-python.pkg.dev/colab-wheels/public/simple/\n",
            "Collecting yfinance\n",
            "  Downloading yfinance-0.1.74-py2.py3-none-any.whl (27 kB)\n",
            "Requirement already satisfied: multitasking>=0.0.7 in /usr/local/lib/python3.7/dist-packages (from yfinance) (0.0.11)\n",
            "Requirement already satisfied: numpy>=1.15 in /usr/local/lib/python3.7/dist-packages (from yfinance) (1.21.6)\n",
            "Collecting requests>=2.26\n",
            "  Downloading requests-2.28.1-py3-none-any.whl (62 kB)\n",
            "\u001b[K     |████████████████████████████████| 62 kB 1.1 MB/s \n",
            "\u001b[?25hRequirement already satisfied: lxml>=4.5.1 in /usr/local/lib/python3.7/dist-packages (from yfinance) (4.9.1)\n",
            "Requirement already satisfied: pandas>=0.24.0 in /usr/local/lib/python3.7/dist-packages (from yfinance) (1.3.5)\n",
            "Requirement already satisfied: pytz>=2017.3 in /usr/local/lib/python3.7/dist-packages (from pandas>=0.24.0->yfinance) (2022.1)\n",
            "Requirement already satisfied: python-dateutil>=2.7.3 in /usr/local/lib/python3.7/dist-packages (from pandas>=0.24.0->yfinance) (2.8.2)\n",
            "Requirement already satisfied: six>=1.5 in /usr/local/lib/python3.7/dist-packages (from python-dateutil>=2.7.3->pandas>=0.24.0->yfinance) (1.15.0)\n",
            "Requirement already satisfied: urllib3<1.27,>=1.21.1 in /usr/local/lib/python3.7/dist-packages (from requests>=2.26->yfinance) (1.24.3)\n",
            "Requirement already satisfied: idna<4,>=2.5 in /usr/local/lib/python3.7/dist-packages (from requests>=2.26->yfinance) (2.10)\n",
            "Requirement already satisfied: certifi>=2017.4.17 in /usr/local/lib/python3.7/dist-packages (from requests>=2.26->yfinance) (2022.6.15)\n",
            "Requirement already satisfied: charset-normalizer<3,>=2 in /usr/local/lib/python3.7/dist-packages (from requests>=2.26->yfinance) (2.1.0)\n",
            "Installing collected packages: requests, yfinance\n",
            "  Attempting uninstall: requests\n",
            "    Found existing installation: requests 2.23.0\n",
            "    Uninstalling requests-2.23.0:\n",
            "      Successfully uninstalled requests-2.23.0\n",
            "Successfully installed requests-2.28.1 yfinance-0.1.74\n"
          ]
        }
      ],
      "source": [
        "!pip install yfinance"
      ]
    },
    {
      "cell_type": "code",
      "source": [
        "import yfinance as yf\n",
        "import numpy as np\n",
        "import datetime as dt\n",
        "import pandas as pd\n",
        "import datetime\n",
        "import os\n",
        "import traceback\n",
        "import matplotlib.pyplot as plt\n",
        "import json\n",
        "import logging \n",
        "\n"
      ],
      "metadata": {
        "id": "ZNQMJKAWQZSj"
      },
      "execution_count": null,
      "outputs": []
    },
    {
      "cell_type": "code",
      "source": [
        "def min_max(data):\n",
        "  max_x = max(data)\n",
        "  min_x = min(data)\n",
        "  result = []\n",
        "  for x in data:\n",
        "    x = x - min_x\n",
        "    result.append(x/ (max_x - min_x))\n",
        "    \n",
        "  return result\n",
        "\n",
        "def plotgraph(df , colname):\n",
        "  plt.plot(df.index, df[colname])\n",
        "  plt.show()\n",
        "\n",
        "def createList(df):\n",
        "  interval = 1/(len(df))\n",
        "  result =np.arange(0, 1, interval)\n",
        "\n",
        "  if len(result) != len(df):\n",
        "    lastElementIndex = len(result)-1\n",
        "    result = result[:lastElementIndex]\n",
        "\n",
        "  return result\n",
        "\n",
        "def computeCloud (data):\n",
        "    if data.Close > data.MovingAVG:\n",
        "        return 1\n",
        "    \n",
        "    return 0\n",
        "\n",
        "def returnpercent(arr , nodays ):\n",
        "  result ={}\n",
        "  for name in arr:\n",
        "    ohlcv = yf.download(name +'.NS',datetime_object -dt.timedelta(nodays),datetime_object)\n",
        "    openprice = ohlcv.iloc[0]['Open']\n",
        "    closeprice = ohlcv.iloc[len(ohlcv) -1 ]['Close']\n",
        "    x = closeprice -openprice\n",
        "    perrtr = (x/openprice) *100\n",
        "    result[name] = perrtr\n",
        "  print(result)\n",
        "  print(sum(result.values()))\n",
        "  return sum(result.values())\n"
      ],
      "metadata": {
        "id": "pJ5RyZp8sIEC"
      },
      "execution_count": 19,
      "outputs": []
    },
    {
      "cell_type": "code",
      "source": [
        "#nifty 50\n",
        "liststocks =[\"HINDALCO\",\"JSWSTEEL\",\"CIPLA\",\"INFY\",\"TATASTEEL\",\"NESTLEIND\",\"APOLLOHOSP\",\"DRREDDY\",\"DIVISLAB\",\"WIPRO\",\"ULTRACEMCO\",\"SUNPHARMA\",\"ASIANPAINT\",\"HCLTECH\",\"TECHM\",\"ADANIPORTS\",\"LT\",\"UPL\",\"ITC\",\"BAJFINANCE\",\"TCS\",\"HDFCBANK\",\"ONGC\",\"TATAMOTORS\",\"GRASIM\",\"HEROMOTOCO\",\"EICHERMOT\",\"BAJAJFINSV\",\"BPCL\",\"HINDUNILVR\",\"INDUSINDBK\",\"HDFCLIFE\",\"AXISBANK\",\"M&M\",\"HDFC\",\"ICICIBANK\",\"BAJAJ-AUTO\",\"BRITANNIA\",\"SHREECEM\",\"TITAN\",\"POWERGRID\",\"SBILIFE\",\"KOTAKBANK\",\"BHARTIARTL\",\"MARUTI\",\"RELIANCE\",\"SBIN\",\"COALINDIA\",\"NTPC\",\"TATACONSUM\"]"
      ],
      "metadata": {
        "id": "EFMUy_35XXpz"
      },
      "execution_count": null,
      "outputs": []
    },
    {
      "cell_type": "code",
      "source": [
        "#nifty 500\n",
        "liststocks = [\"3MINDIA\",\"ABB\",\"ACC\",\"AIAENG\",\"APLAPOLLO\",\"AUBANK\",\"AARTIDRUGS\",\"AARTIIND\",\"AAVAS\",\"ABBOTINDIA\",\"ADANIENT\",\"ADANIGREEN\",\"ADANIPORTS\",\"ATGL\",\"ADANITRANS\",\"ABCAPITAL\",\"ABFRL\",\"ADVENZYMES\",\"AEGISCHEM\",\"AFFLE\",\"AJANTPHARM\",\"ALEMBICLTD\",\"APLLTD\",\"ALKEM\",\"ALKYLAMINE\",\"ALOKINDS\",\"AMARAJABAT\",\"AMBER\",\"AMBUJACEM\",\"ANGELONE\",\"ANURAS\",\"APOLLOHOSP\",\"APOLLOTYRE\",\"ASAHIINDIA\",\"ASHOKLEY\",\"ASHOKA\",\"ASIANPAINT\",\"ASTERDM\",\"ASTRAZEN\",\"ASTRAL\",\"ATUL\",\"AUROPHARMA\",\"AVANTIFEED\",\"DMART\",\"AXISBANK\",\"BASF\",\"BEML\",\"BSE\",\"BAJAJ-AUTO\",\"BAJAJCON\",\"BAJAJELEC\",\"BAJFINANCE\",\"BAJAJFINSV\",\"BAJAJHLDNG\",\"BALAMINES\",\"BALKRISIND\",\"BALRAMCHIN\",\"BANDHANBNK\",\"BANKBARODA\",\"BANKINDIA\",\"MAHABANK\",\"BATAINDIA\",\"BAYERCROP\",\"BERGEPAINT\",\"BDL\",\"BEL\",\"BHARATFORG\",\"BHEL\",\"BPCL\",\"BHARATRAS\",\"BHARTIARTL\",\"BIOCON\",\"BIRLACORPN\",\"BSOFT\",\"BLUEDART\",\"BLUESTARCO\",\"BBTC\",\"BOSCHLTD\",\"BRIGADE\",\"BRITANNIA\",\"CCL\",\"CESC\",\"CGPOWER\",\"CRISIL\",\"CSBBANK\",\"CADILAHC\",\"CANFINHOME\",\"CANBK\",\"CAPLIPOINT\",\"CGCL\",\"CARBORUNIV\",\"CASTROLIND\",\"CEATLTD\",\"CENTRALBK\",\"CDSL\",\"CENTURYPLY\",\"CENTURYTEX\",\"CERA\",\"CHALET\",\"CHAMBLFERT\",\"CHOLAHLDNG\",\"CHOLAFIN\",\"CIPLA\",\"CUB\",\"COALINDIA\",\"COCHINSHIP\",\"COFORGE\",\"COLPAL\",\"CAMS\",\"CONCOR\",\"COROMANDEL\",\"CREDITACC\",\"CROMPTON\",\"CUMMINSIND\",\"CYIENT\",\"DCBBANK\",\"DCMSHRIRAM\",\"DLF\",\"DABUR\",\"DALBHARAT\",\"DEEPAKNTR\",\"DELTACORP\",\"DHANI\",\"DHANUKA\",\"DBL\",\"DIVISLAB\",\"DIXON\",\"LALPATHLAB\",\"DRREDDY\",\"EIDPARRY\",\"EIHOTEL\",\"EPL\",\"EDELWEISS\",\"EICHERMOT\",\"ELGIEQUIP\",\"EMAMILTD\",\"ENDURANCE\",\"ENGINERSIN\",\"EQUITAS\",\"EQUITASBNK\",\"ERIS\",\"ESCORTS\",\"EXIDEIND\",\"FDC\",\"FEDERALBNK\",\"FACT\",\"FINEORG\",\"FINCABLES\",\"FINPIPE\",\"FSL\",\"FORTIS\",\"FRETAIL\",\"GAIL\",\"GMMPFAUDLR\",\"GALAXYSURF\",\"GARFIBRES\",\"GICRE\",\"GILLETTE\",\"GLAND\",\"GLAXO\",\"GLENMARK\",\"GODFRYPHLP\",\"GODREJAGRO\",\"GODREJCP\",\"GODREJIND\",\"GODREJPROP\",\"GRANULES\",\"GRAPHITE\",\"GRASIM\",\"GESHIP\",\"GREAVESCOT\",\"GRINDWELL\",\"GUJALKALI\",\"GAEL\",\"FLUOROCHEM\",\"GUJGASLTD\",\"GNFC\",\"GPPL\",\"GSFC\",\"GSPL\",\"HEG\",\"HCLTECH\",\"HDFCAMC\",\"HDFCBANK\",\"HDFCLIFE\",\"HFCL\",\"HAPPSTMNDS\",\"HATHWAY\",\"HATSUN\",\"HAVELLS\",\"HEIDELBERG\",\"HEMIPROP\",\"HEROMOTOCO\",\"HIKAL\",\"HINDALCO\",\"HGS\",\"HAL\",\"HINDCOPPER\",\"HINDPETRO\",\"HINDUNILVR\",\"HINDZINC\",\"POWERINDIA\",\"HOMEFIRST\",\"HONAUT\",\"HUDCO\",\"HDFC\",\"ICICIBANK\",\"ICICIGI\",\"ICICIPRULI\",\"ISEC\",\"IDBI\",\"IDFCFIRSTB\",\"IDFC\",\"IFBIND\",\"IIFL\",\"IIFLWAM\",\"IOLCP\",\"IRB\",\"IRCON\",\"ITC\",\"ITI\",\"INDIACEM\",\"IBULHSGFIN\",\"IBREALEST\",\"INDIAMART\",\"INDIANB\",\"IEX\",\"INDHOTEL\",\"IOC\",\"IOB\",\"IRCTC\",\"IRFC\",\"INDIGOPNTS\",\"ICIL\",\"INDOCO\",\"IGL\",\"INDUSTOWER\",\"INDUSINDBK\",\"INFIBEAM\",\"NAUKRI\",\"INFY\",\"INGERRAND\",\"INOXLEISUR\",\"INTELLECT\",\"INDIGO\",\"IPCALAB\",\"JBCHEPHARM\",\"JKCEMENT\",\"JKLAKSHMI\",\"JKPAPER\",\"JKTYRE\",\"JMFINANCIL\",\"JSWENERGY\",\"JSWSTEEL\",\"JAMNAAUTO\",\"JINDALSAW\",\"JSLHISAR\",\"JSL\",\"JINDALSTEL\",\"JCHAC\",\"JUBLFOOD\",\"JUBLINGREA\",\"JUBLPHARMA\",\"JUSTDIAL\",\"JYOTHYLAB\",\"KPRMILL\",\"KEI\",\"KNRCON\",\"KPITTECH\",\"KRBL\",\"KSB\",\"KAJARIACER\",\"KALPATPOWR\",\"KALYANKJIL\",\"KANSAINER\",\"KARURVYSYA\",\"KSCL\",\"KEC\",\"KOTAKBANK\",\"L&TFH\",\"LTTS\",\"LICHSGFIN\",\"LAOPALA\",\"LAXMIMACH\",\"LTI\",\"LT\",\"LAURUSLABS\",\"LXCHEM\",\"LEMONTREE\",\"LINDEINDIA\",\"LUPIN\",\"LUXIND\",\"MMTC\",\"MOIL\",\"MRF\",\"LODHA\",\"MGL\",\"M&MFIN\",\"M&M\",\"MAHINDCIE\",\"MHRIL\",\"MAHLOG\",\"MANAPPURAM\",\"MRPL\",\"MARICO\",\"MARUTI\",\"MASTEK\",\"MFSL\",\"MAXHEALTH\",\"MAZDOCK\",\"METROPOLIS\",\"MINDTREE\",\"MINDACORP\",\"MINDAIND\",\"MIDHANI\",\"MOTILALOFS\",\"MPHASIS\",\"MCX\",\"MUTHOOTFIN\",\"NATCOPHARM\",\"NBCC\",\"NCC\",\"NESCO\",\"NHPC\",\"NLCINDIA\",\"NMDC\",\"NOCIL\",\"NTPC\",\"NH\",\"NATIONALUM\",\"NFL\",\"NAVINFLUOR\",\"NAZARA\",\"NESTLEIND\",\"NETWORK18\",\"NILKAMAL\",\"NAM-INDIA\",\"OBEROIRLTY\",\"ONGC\",\"OIL\",\"OFSS\",\"ORIENTELEC\",\"PCBL\",\"PIIND\",\"PNBHOUSING\",\"PNCINFRA\",\"PVR\",\"PAGEIND\",\"PERSISTENT\",\"PETRONET\",\"PFIZER\",\"PHOENIXLTD\",\"PIDILITIND\",\"PEL\",\"POLYMED\",\"POLYCAB\",\"POLYPLEX\",\"POONAWALLA\",\"PFC\",\"POWERGRID\",\"PRAJIND\",\"PRESTIGE\",\"PRINCEPIPE\",\"PRSMJOHNSN\",\"PGHL\",\"PGHH\",\"PNB\",\"QUESS\",\"RBLBANK\",\"RECLTD\",\"RHIM\",\"RITES\",\"RADICO\",\"RVNL\",\"RAILTEL\",\"RAIN\",\"RAJESHEXPO\",\"RALLIS\",\"RCF\",\"RATNAMANI\",\"REDINGTON\",\"RELAXO\",\"RELIANCE\",\"RBA\",\"ROSSARI\",\"ROUTE\",\"SBICARD\",\"SBILIFE\",\"SIS\",\"SJVN\",\"SKFINDIA\",\"SRF\",\"SANOFI\",\"SCHAEFFLER\",\"SCHNEIDER\",\"SEQUENT\",\"SHARDACROP\",\"SFL\",\"SHILPAMED\",\"SCI\",\"SHREECEM\",\"SHRIRAMCIT\",\"SRTRANSFIN\",\"SIEMENS\",\"SOBHA\",\"SOLARINDS\",\"SOLARA\",\"SONACOMS\",\"SONATSOFTW\",\"SPANDANA\",\"SPICEJET\",\"STARCEMENT\",\"SBIN\",\"SAIL\",\"SWSOLAR\",\"STLTECH\",\"STAR\",\"SUDARSCHEM\",\"SUMICHEM\",\"SPARC\",\"SUNPHARMA\",\"SUNTV\",\"SUNDARMFIN\",\"SUNDRMFAST\",\"SUNTECK\",\"SUPRAJIT\",\"SUPREMEIND\",\"SUPPETRO\",\"SUVENPHAR\",\"SUZLON\",\"SYMPHONY\",\"SYNGENE\",\"TCIEXP\",\"TCNSBRANDS\",\"TTKPRESTIG\",\"TV18BRDCST\",\"TVSMOTOR\",\"TANLA\",\"TASTYBITE\",\"TATACHEM\",\"TATACOFFEE\",\"TATACOMM\",\"TCS\",\"TATACONSUM\",\"TATAELXSI\",\"TATAMTRDVR\",\"TATAMOTORS\",\"TATAPOWER\",\"TATASTLLP\",\"TATASTEEL\",\"TTML\",\"TEAMLEASE\",\"TECHM\",\"NIACL\",\"RAMCOCEM\",\"THERMAX\",\"THYROCARE\",\"TIMKEN\",\"TITAN\",\"TORNTPHARM\",\"TORNTPOWER\",\"TRENT\",\"TRIDENT\",\"TRITURBINE\",\"TIINDIA\",\"UCOBANK\",\"UFLEX\",\"UPL\",\"UTIAMC\",\"UJJIVAN\",\"UJJIVANSFB\",\"ULTRACEMCO\",\"UNIONBANK\",\"UBL\",\"MCDOWELL-N\",\"VGUARD\",\"VMART\",\"VIPIND\",\"VAIBHAVGBL\",\"VAKRANGEE\",\"VALIANTORG\",\"VTL\",\"VARROC\",\"VBL\",\"VEDL\",\"VENKEYS\",\"VINATIORGA\",\"IDEA\",\"VOLTAS\",\"WABCOINDIA\",\"WELCORP\",\"WELSPUNIND\",\"WESTLIFE\",\"WHIRLPOOL\",\"WIPRO\",\"WOCKPHARMA\",\"YESBANK\",\"ZEEL\",\"ZENSARTECH\",\"ZYDUSWELL\",\"ECLERX\"]"
      ],
      "metadata": {
        "id": "Zl8JACz6WbEW"
      },
      "execution_count": 20,
      "outputs": []
    },
    {
      "cell_type": "code",
      "source": [
        "# liststocks = ['PERSISTENT','INFY','M&M','VBL']\n",
        "# liststocks = [\"DRREDDY\",\"ITC\",\"TECHM\",\"BPCL\",\"ULTRACEMCO\",\"SUNPHARMA\",\"WIPRO\",\"BRITANNIA\",\"INFY\",\"HCLTECH\",\"UPL\",\"NESTLEIND\",\"CIPLA\",\"HDFCBANK\",\"TCS\",\"SBIN\",\"IOC\",\"SHREECEM\",\"ADANIPORTS\",\"INDUSINDBK\",\"NTPC\",\"BAJAJ-AUTO\",\"ICICIBANK\",\"DIVISLAB\",\"HDFCLIFE\",\"POWERGRID\",\"GRASIM\",\"TATASTEEL\",\"RELIANCE\",\"SBILIFE\",\"KOTAKBANK\",\"LT\",\"HDFC\",\"BAJAJFINSV\",\"TATACONSUM\",\"BHARTIARTL\",\"ONGC\",\"EICHERMOT\",\"BAJFINANCE\",\"AXISBANK\",\"HINDALCO\",\"HINDUNILVR\",\"JSWSTEEL\",\"COALINDIA\",\"M&M\",\"TATAMOTORS\",\"HEROMOTOCO\",\"ASIANPAINT\",\"MARUTI\",\"TITAN\"]\n",
        "tickers={}\n",
        "\n",
        "periodinput = 90\n",
        "TODAY = \"2022-07-01\"\n",
        "TODAY = dt.datetime.today().strftime('%Y-%m-%d')\n",
        "datetime_object = dt.datetime.strptime(TODAY, '%Y-%m-%d')\n",
        "\n",
        "count=0\n",
        "for name in liststocks: \n",
        "    try:\n",
        "        finalresult = []\n",
        "        count = count +1\n",
        "        i=0\n",
        "        ohlcv = yf.download(name +'.NS',datetime_object -dt.timedelta(periodinput),datetime_object)\n",
        "    \n",
        "        ohlcv['minmax']=min_max(ohlcv['Close'].values)\n",
        "        print(count,\"MATCH:\",len(ohlcv), len(createList(ohlcv)))\n",
        "        ohlcv['expected'] = createList(ohlcv)\n",
        "        # ohlcv['result'] = ohlcv.apply(lambda x: (x['expected'] - x['minmax']) if x['expected'] > x['minmax']  else 0 , axis=1)\n",
        "        ohlcv['result'] = ohlcv.apply(lambda x: (x['expected'] - x['minmax']) , axis=1)\n",
        "        ohlcv['result'] = ohlcv['result'].abs()\n",
        " \n",
        "        # sumofpos = ohlcv[ohlcv['result']>0].sum()\n",
        "     \n",
        "        print(name )\n",
        "        finalresult.append(sum(ohlcv['result']))\n",
        "   \n",
        "\n",
        "        tickers[name] = finalresult\n",
        "    \n",
        "    except Exception as ex:\n",
        "        print(ex)#raised if `y` is empty.\n",
        "        print(\"ERROR: \", name)\n",
        "        liststocks.remove(name)\n",
        "        traceback.print_exc()\n",
        "        \n",
        "\n",
        "df=pd.DataFrame.from_dict(tickers,orient='index')\n",
        "df = df.reset_index()\n",
        "df"
      ],
      "metadata": {
        "colab": {
          "base_uri": "https://localhost:8080/",
          "height": 389
        },
        "id": "3In4GYo6Qdr0",
        "outputId": "92ef1ecb-f469-45f4-886f-0a925b1d0b96"
      },
      "execution_count": 12,
      "outputs": [
        {
          "output_type": "stream",
          "name": "stdout",
          "text": [
            "[*********************100%***********************]  1 of 1 completed\n",
            "1 MATCH: 62 62\n",
            "PERSISTENT\n",
            "[*********************100%***********************]  1 of 1 completed\n",
            "2 MATCH: 62 62\n",
            "INFY\n",
            "[*********************100%***********************]  1 of 1 completed\n",
            "3 MATCH: 62 62\n",
            "M&M\n",
            "[*********************100%***********************]  1 of 1 completed\n",
            "4 MATCH: 62 62\n",
            "VBL\n"
          ]
        },
        {
          "output_type": "execute_result",
          "data": {
            "text/plain": [
              "        index          0\n",
              "0  PERSISTENT  20.051406\n",
              "1        INFY  12.649341\n",
              "2         M&M   4.821233\n",
              "3         VBL  30.825630"
            ],
            "text/html": [
              "\n",
              "  <div id=\"df-3e5e69ea-6ad2-4485-83ff-162a3d312d97\">\n",
              "    <div class=\"colab-df-container\">\n",
              "      <div>\n",
              "<style scoped>\n",
              "    .dataframe tbody tr th:only-of-type {\n",
              "        vertical-align: middle;\n",
              "    }\n",
              "\n",
              "    .dataframe tbody tr th {\n",
              "        vertical-align: top;\n",
              "    }\n",
              "\n",
              "    .dataframe thead th {\n",
              "        text-align: right;\n",
              "    }\n",
              "</style>\n",
              "<table border=\"1\" class=\"dataframe\">\n",
              "  <thead>\n",
              "    <tr style=\"text-align: right;\">\n",
              "      <th></th>\n",
              "      <th>index</th>\n",
              "      <th>0</th>\n",
              "    </tr>\n",
              "  </thead>\n",
              "  <tbody>\n",
              "    <tr>\n",
              "      <th>0</th>\n",
              "      <td>PERSISTENT</td>\n",
              "      <td>20.051406</td>\n",
              "    </tr>\n",
              "    <tr>\n",
              "      <th>1</th>\n",
              "      <td>INFY</td>\n",
              "      <td>12.649341</td>\n",
              "    </tr>\n",
              "    <tr>\n",
              "      <th>2</th>\n",
              "      <td>M&amp;M</td>\n",
              "      <td>4.821233</td>\n",
              "    </tr>\n",
              "    <tr>\n",
              "      <th>3</th>\n",
              "      <td>VBL</td>\n",
              "      <td>30.825630</td>\n",
              "    </tr>\n",
              "  </tbody>\n",
              "</table>\n",
              "</div>\n",
              "      <button class=\"colab-df-convert\" onclick=\"convertToInteractive('df-3e5e69ea-6ad2-4485-83ff-162a3d312d97')\"\n",
              "              title=\"Convert this dataframe to an interactive table.\"\n",
              "              style=\"display:none;\">\n",
              "        \n",
              "  <svg xmlns=\"http://www.w3.org/2000/svg\" height=\"24px\"viewBox=\"0 0 24 24\"\n",
              "       width=\"24px\">\n",
              "    <path d=\"M0 0h24v24H0V0z\" fill=\"none\"/>\n",
              "    <path d=\"M18.56 5.44l.94 2.06.94-2.06 2.06-.94-2.06-.94-.94-2.06-.94 2.06-2.06.94zm-11 1L8.5 8.5l.94-2.06 2.06-.94-2.06-.94L8.5 2.5l-.94 2.06-2.06.94zm10 10l.94 2.06.94-2.06 2.06-.94-2.06-.94-.94-2.06-.94 2.06-2.06.94z\"/><path d=\"M17.41 7.96l-1.37-1.37c-.4-.4-.92-.59-1.43-.59-.52 0-1.04.2-1.43.59L10.3 9.45l-7.72 7.72c-.78.78-.78 2.05 0 2.83L4 21.41c.39.39.9.59 1.41.59.51 0 1.02-.2 1.41-.59l7.78-7.78 2.81-2.81c.8-.78.8-2.07 0-2.86zM5.41 20L4 18.59l7.72-7.72 1.47 1.35L5.41 20z\"/>\n",
              "  </svg>\n",
              "      </button>\n",
              "      \n",
              "  <style>\n",
              "    .colab-df-container {\n",
              "      display:flex;\n",
              "      flex-wrap:wrap;\n",
              "      gap: 12px;\n",
              "    }\n",
              "\n",
              "    .colab-df-convert {\n",
              "      background-color: #E8F0FE;\n",
              "      border: none;\n",
              "      border-radius: 50%;\n",
              "      cursor: pointer;\n",
              "      display: none;\n",
              "      fill: #1967D2;\n",
              "      height: 32px;\n",
              "      padding: 0 0 0 0;\n",
              "      width: 32px;\n",
              "    }\n",
              "\n",
              "    .colab-df-convert:hover {\n",
              "      background-color: #E2EBFA;\n",
              "      box-shadow: 0px 1px 2px rgba(60, 64, 67, 0.3), 0px 1px 3px 1px rgba(60, 64, 67, 0.15);\n",
              "      fill: #174EA6;\n",
              "    }\n",
              "\n",
              "    [theme=dark] .colab-df-convert {\n",
              "      background-color: #3B4455;\n",
              "      fill: #D2E3FC;\n",
              "    }\n",
              "\n",
              "    [theme=dark] .colab-df-convert:hover {\n",
              "      background-color: #434B5C;\n",
              "      box-shadow: 0px 1px 3px 1px rgba(0, 0, 0, 0.15);\n",
              "      filter: drop-shadow(0px 1px 2px rgba(0, 0, 0, 0.3));\n",
              "      fill: #FFFFFF;\n",
              "    }\n",
              "  </style>\n",
              "\n",
              "      <script>\n",
              "        const buttonEl =\n",
              "          document.querySelector('#df-3e5e69ea-6ad2-4485-83ff-162a3d312d97 button.colab-df-convert');\n",
              "        buttonEl.style.display =\n",
              "          google.colab.kernel.accessAllowed ? 'block' : 'none';\n",
              "\n",
              "        async function convertToInteractive(key) {\n",
              "          const element = document.querySelector('#df-3e5e69ea-6ad2-4485-83ff-162a3d312d97');\n",
              "          const dataTable =\n",
              "            await google.colab.kernel.invokeFunction('convertToInteractive',\n",
              "                                                     [key], {});\n",
              "          if (!dataTable) return;\n",
              "\n",
              "          const docLinkHtml = 'Like what you see? Visit the ' +\n",
              "            '<a target=\"_blank\" href=https://colab.research.google.com/notebooks/data_table.ipynb>data table notebook</a>'\n",
              "            + ' to learn more about interactive tables.';\n",
              "          element.innerHTML = '';\n",
              "          dataTable['output_type'] = 'display_data';\n",
              "          await google.colab.output.renderOutput(dataTable, element);\n",
              "          const docLink = document.createElement('div');\n",
              "          docLink.innerHTML = docLinkHtml;\n",
              "          element.appendChild(docLink);\n",
              "        }\n",
              "      </script>\n",
              "    </div>\n",
              "  </div>\n",
              "  "
            ]
          },
          "metadata": {},
          "execution_count": 12
        }
      ]
    },
    {
      "cell_type": "code",
      "source": [
        "df.sort_values(by=[0])"
      ],
      "metadata": {
        "id": "gYJy2gb5XVhc",
        "outputId": "16629a70-44b3-4865-c141-c6e745e42d82",
        "colab": {
          "base_uri": "https://localhost:8080/",
          "height": 424
        }
      },
      "execution_count": null,
      "outputs": [
        {
          "output_type": "execute_result",
          "data": {
            "text/plain": [
              "          index         0\n",
              "295   MAHINDCIE  3.417728\n",
              "430    TVSMOTOR  3.452031\n",
              "379         RBA  3.578535\n",
              "191         HGS  4.798713\n",
              "294         M&M  4.821233\n",
              "..          ...       ...\n",
              "76         BBTC       NaN\n",
              "105      CONCOR       NaN\n",
              "298  MANAPPURAM       NaN\n",
              "365      RECLTD       NaN\n",
              "377      RELAXO       NaN\n",
              "\n",
              "[493 rows x 2 columns]"
            ],
            "text/html": [
              "\n",
              "  <div id=\"df-de28e689-ef7a-4e62-b404-a3ba1147d4e5\">\n",
              "    <div class=\"colab-df-container\">\n",
              "      <div>\n",
              "<style scoped>\n",
              "    .dataframe tbody tr th:only-of-type {\n",
              "        vertical-align: middle;\n",
              "    }\n",
              "\n",
              "    .dataframe tbody tr th {\n",
              "        vertical-align: top;\n",
              "    }\n",
              "\n",
              "    .dataframe thead th {\n",
              "        text-align: right;\n",
              "    }\n",
              "</style>\n",
              "<table border=\"1\" class=\"dataframe\">\n",
              "  <thead>\n",
              "    <tr style=\"text-align: right;\">\n",
              "      <th></th>\n",
              "      <th>index</th>\n",
              "      <th>0</th>\n",
              "    </tr>\n",
              "  </thead>\n",
              "  <tbody>\n",
              "    <tr>\n",
              "      <th>295</th>\n",
              "      <td>MAHINDCIE</td>\n",
              "      <td>3.417728</td>\n",
              "    </tr>\n",
              "    <tr>\n",
              "      <th>430</th>\n",
              "      <td>TVSMOTOR</td>\n",
              "      <td>3.452031</td>\n",
              "    </tr>\n",
              "    <tr>\n",
              "      <th>379</th>\n",
              "      <td>RBA</td>\n",
              "      <td>3.578535</td>\n",
              "    </tr>\n",
              "    <tr>\n",
              "      <th>191</th>\n",
              "      <td>HGS</td>\n",
              "      <td>4.798713</td>\n",
              "    </tr>\n",
              "    <tr>\n",
              "      <th>294</th>\n",
              "      <td>M&amp;M</td>\n",
              "      <td>4.821233</td>\n",
              "    </tr>\n",
              "    <tr>\n",
              "      <th>...</th>\n",
              "      <td>...</td>\n",
              "      <td>...</td>\n",
              "    </tr>\n",
              "    <tr>\n",
              "      <th>76</th>\n",
              "      <td>BBTC</td>\n",
              "      <td>NaN</td>\n",
              "    </tr>\n",
              "    <tr>\n",
              "      <th>105</th>\n",
              "      <td>CONCOR</td>\n",
              "      <td>NaN</td>\n",
              "    </tr>\n",
              "    <tr>\n",
              "      <th>298</th>\n",
              "      <td>MANAPPURAM</td>\n",
              "      <td>NaN</td>\n",
              "    </tr>\n",
              "    <tr>\n",
              "      <th>365</th>\n",
              "      <td>RECLTD</td>\n",
              "      <td>NaN</td>\n",
              "    </tr>\n",
              "    <tr>\n",
              "      <th>377</th>\n",
              "      <td>RELAXO</td>\n",
              "      <td>NaN</td>\n",
              "    </tr>\n",
              "  </tbody>\n",
              "</table>\n",
              "<p>493 rows × 2 columns</p>\n",
              "</div>\n",
              "      <button class=\"colab-df-convert\" onclick=\"convertToInteractive('df-de28e689-ef7a-4e62-b404-a3ba1147d4e5')\"\n",
              "              title=\"Convert this dataframe to an interactive table.\"\n",
              "              style=\"display:none;\">\n",
              "        \n",
              "  <svg xmlns=\"http://www.w3.org/2000/svg\" height=\"24px\"viewBox=\"0 0 24 24\"\n",
              "       width=\"24px\">\n",
              "    <path d=\"M0 0h24v24H0V0z\" fill=\"none\"/>\n",
              "    <path d=\"M18.56 5.44l.94 2.06.94-2.06 2.06-.94-2.06-.94-.94-2.06-.94 2.06-2.06.94zm-11 1L8.5 8.5l.94-2.06 2.06-.94-2.06-.94L8.5 2.5l-.94 2.06-2.06.94zm10 10l.94 2.06.94-2.06 2.06-.94-2.06-.94-.94-2.06-.94 2.06-2.06.94z\"/><path d=\"M17.41 7.96l-1.37-1.37c-.4-.4-.92-.59-1.43-.59-.52 0-1.04.2-1.43.59L10.3 9.45l-7.72 7.72c-.78.78-.78 2.05 0 2.83L4 21.41c.39.39.9.59 1.41.59.51 0 1.02-.2 1.41-.59l7.78-7.78 2.81-2.81c.8-.78.8-2.07 0-2.86zM5.41 20L4 18.59l7.72-7.72 1.47 1.35L5.41 20z\"/>\n",
              "  </svg>\n",
              "      </button>\n",
              "      \n",
              "  <style>\n",
              "    .colab-df-container {\n",
              "      display:flex;\n",
              "      flex-wrap:wrap;\n",
              "      gap: 12px;\n",
              "    }\n",
              "\n",
              "    .colab-df-convert {\n",
              "      background-color: #E8F0FE;\n",
              "      border: none;\n",
              "      border-radius: 50%;\n",
              "      cursor: pointer;\n",
              "      display: none;\n",
              "      fill: #1967D2;\n",
              "      height: 32px;\n",
              "      padding: 0 0 0 0;\n",
              "      width: 32px;\n",
              "    }\n",
              "\n",
              "    .colab-df-convert:hover {\n",
              "      background-color: #E2EBFA;\n",
              "      box-shadow: 0px 1px 2px rgba(60, 64, 67, 0.3), 0px 1px 3px 1px rgba(60, 64, 67, 0.15);\n",
              "      fill: #174EA6;\n",
              "    }\n",
              "\n",
              "    [theme=dark] .colab-df-convert {\n",
              "      background-color: #3B4455;\n",
              "      fill: #D2E3FC;\n",
              "    }\n",
              "\n",
              "    [theme=dark] .colab-df-convert:hover {\n",
              "      background-color: #434B5C;\n",
              "      box-shadow: 0px 1px 3px 1px rgba(0, 0, 0, 0.15);\n",
              "      filter: drop-shadow(0px 1px 2px rgba(0, 0, 0, 0.3));\n",
              "      fill: #FFFFFF;\n",
              "    }\n",
              "  </style>\n",
              "\n",
              "      <script>\n",
              "        const buttonEl =\n",
              "          document.querySelector('#df-de28e689-ef7a-4e62-b404-a3ba1147d4e5 button.colab-df-convert');\n",
              "        buttonEl.style.display =\n",
              "          google.colab.kernel.accessAllowed ? 'block' : 'none';\n",
              "\n",
              "        async function convertToInteractive(key) {\n",
              "          const element = document.querySelector('#df-de28e689-ef7a-4e62-b404-a3ba1147d4e5');\n",
              "          const dataTable =\n",
              "            await google.colab.kernel.invokeFunction('convertToInteractive',\n",
              "                                                     [key], {});\n",
              "          if (!dataTable) return;\n",
              "\n",
              "          const docLinkHtml = 'Like what you see? Visit the ' +\n",
              "            '<a target=\"_blank\" href=https://colab.research.google.com/notebooks/data_table.ipynb>data table notebook</a>'\n",
              "            + ' to learn more about interactive tables.';\n",
              "          element.innerHTML = '';\n",
              "          dataTable['output_type'] = 'display_data';\n",
              "          await google.colab.output.renderOutput(dataTable, element);\n",
              "          const docLink = document.createElement('div');\n",
              "          docLink.innerHTML = docLinkHtml;\n",
              "          element.appendChild(docLink);\n",
              "        }\n",
              "      </script>\n",
              "    </div>\n",
              "  </div>\n",
              "  "
            ]
          },
          "metadata": {},
          "execution_count": 7
        }
      ]
    },
    {
      "cell_type": "code",
      "source": [
        "top10 = df.sort_values(by=[0]).head(10)\n",
        "topnames = top10['index'].values\n",
        "\n",
        "for name in topnames: \n",
        "    try:\n",
        "        result = []\n",
        "        i=0     \n",
        "        ohlcv = yf.download(name +'.NS',datetime_object -dt.timedelta(periodinput),datetime_object)\n",
        "        ohlcv['minmax']=min_max(ohlcv['Close'].values)\n",
        "        \n",
        "        ohlcv['expected'] = ohlcv['minmax'].rolling(window=52).mean()\n",
        "\n",
        "        ohlcv['result'] = ohlcv.apply(lambda x: (x['minmax'] - x['expected'] ) , axis=1)\n",
        "        print(name)\n",
        "        colname = 'Close'\n",
        "        plotgraph(ohlcv, colname)\n",
        "        # colname = 'expected'\n",
        "        # plotgraph(ohlcv, colname)\n",
        "        \n",
        "    \n",
        "    except Exception as ex:\n",
        "        print(ex)#raised if  is empty.\n",
        "        print(\"ERROR: \", name)\n",
        "   \n",
        "        traceback.print_exc()"
      ],
      "metadata": {
        "id": "gocgooIS7o9D",
        "outputId": "7e467210-d00b-44b6-f33a-f99a254fbed9",
        "colab": {
          "base_uri": "https://localhost:8080/",
          "height": 1000
        }
      },
      "execution_count": 13,
      "outputs": [
        {
          "output_type": "stream",
          "name": "stdout",
          "text": [
            "\r[*********************100%***********************]  1 of 1 completed\n",
            "M&M\n"
          ]
        },
        {
          "output_type": "display_data",
          "data": {
            "text/plain": [
              "<Figure size 432x288 with 1 Axes>"
            ],
            "image/png": "[encoded data removed]"
          },
          "metadata": {
            "needs_background": "light"
          }
        },
        {
          "output_type": "stream",
          "name": "stdout",
          "text": [
            "\r[*********************100%***********************]  1 of 1 completed\n",
            "INFY\n"
          ]
        },
        {
          "output_type": "display_data",
          "data": {
            "text/plain": [
              "<Figure size 432x288 with 1 Axes>"
            ],
            "image/png": "[encoded data removed]"
          },
          "metadata": {
            "needs_background": "light"
          }
        },
        {
          "output_type": "stream",
          "name": "stdout",
          "text": [
            "\r[*********************100%***********************]  1 of 1 completed\n",
            "PERSISTENT\n"
          ]
        },
        {
          "output_type": "display_data",
          "data": {
            "text/plain": [
              "<Figure size 432x288 with 1 Axes>"
            ],
            "image/png": "[encoded data removed]"
          },
          "metadata": {
            "needs_background": "light"
          }
        },
        {
          "output_type": "stream",
          "name": "stdout",
          "text": [
            "\r[*********************100%***********************]  1 of 1 completed\n",
            "VBL\n"
          ]
        },
        {
          "output_type": "display_data",
          "data": {
            "text/plain": [
              "<Figure size 432x288 with 1 Axes>"
            ],
            "image/png": "[encoded data removed]"
          },
          "metadata": {
            "needs_background": "light"
          }
        }
      ]
    },
    {
      "cell_type": "code",
      "source": [
        "print(topnames)\n",
        "returnpercent(topnames, 7)"
      ],
      "metadata": {
        "id": "UPjeE8CaUReo",
        "outputId": "dc170431-faba-43b3-8bb8-5dd6370121d5",
        "colab": {
          "base_uri": "https://localhost:8080/"
        }
      },
      "execution_count": 18,
      "outputs": [
        {
          "output_type": "stream",
          "name": "stdout",
          "text": [
            "['M&M' 'INFY' 'PERSISTENT' 'VBL']\n",
            "[*********************100%***********************]  1 of 1 completed\n",
            "[*********************100%***********************]  1 of 1 completed\n",
            "[*********************100%***********************]  1 of 1 completed\n",
            "[*********************100%***********************]  1 of 1 completed\n",
            "{'M&M': 0.8848902762823022, 'INFY': -1.5266469741816613, 'PERSISTENT': -0.4845077817256045, 'VBL': 1.892248400606049}\n",
            "0.7659839209810853\n"
          ]
        },
        {
          "output_type": "execute_result",
          "data": {
            "text/plain": [
              "1"
            ]
          },
          "metadata": {},
          "execution_count": 18
        }
      ]
    }
  ]
}